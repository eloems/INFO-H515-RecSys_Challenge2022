{
 "cells": [
  {
   "cell_type": "code",
   "execution_count": 1,
   "metadata": {},
   "outputs": [],
   "source": [
    "import pandas as pd\n",
    "import scipy.stats\n",
    "from datetime import datetime\n",
    "import matplotlib.pyplot as plt\n",
    "import numpy as np\n",
    "import pyspark\n",
    "from pyspark.sql import SparkSession\n",
    "import os\n",
    "import math\n",
    "# Disable warnings, set Matplotlib inline plotting and load Pandas package\n",
    "import warnings\n",
    "warnings.filterwarnings('ignore')"
   ]
  },
  {
   "cell_type": "markdown",
   "metadata": {},
   "source": [
    "# 1) Loading and preprocessing of data"
   ]
  },
  {
   "cell_type": "code",
   "execution_count": null,
   "metadata": {},
   "outputs": [],
   "source": [
    "#This is needed to start a Spark session from the notebook\n",
    "os.environ['PYSPARK_SUBMIT_ARGS'] =\"--conf spark.driver.memory=2g\\\n",
    "                                    pyspark-shell\"\n",
    "\n",
    "# For Yarn, so that Spark knows where it runs\n",
    "os.environ['HADOOP_CONF_DIR']=\"/etc/hadoop/conf\"\n",
    "# For Yarn, so Spark knows which version to use (and we want Anaconda to be used, so we have access to numpy, pandas, and so forth)\n",
    "os.environ['PYSPARK_PYTHON']=\"/usr/local/anaconda3/bin/python3\"\n",
    "os.environ['PYSPARK_DRIVER_PYTHON']=\"/usr/local/anaconda3/bin/python3\"\n",
    "\n",
    "\n",
    "from pyspark.sql import SparkSession"
   ]
  },
  {
   "cell_type": "code",
   "execution_count": null,
   "metadata": {},
   "outputs": [],
   "source": [
    "\n",
    "spark = SparkSession \\\n",
    "    .builder \\\n",
    "    .master(\"yarn\") \\\n",
    "    .config(\"spark.executor.instances\",\"5\") \\\n",
    "    .appName(\"demoRDD\") \\\n",
    "    .config('spark.ui.port', '4058') \\\n",
    "    .getOrCreate()\n",
    "\n",
    "sc = spark.sparkContext\n",
    "print(sc)\n",
    "\n"
   ]
  },
  {
   "cell_type": "code",
   "execution_count": 2,
   "metadata": {},
   "outputs": [
    {
     "name": "stdout",
     "output_type": "stream",
     "text": [
      "<SparkContext master=local[3] appName=Group2>\n"
     ]
    }
   ],
   "source": [
    "#This is needed to start a Spark session from the notebook\n",
    "os.environ['PYSPARK_SUBMIT_ARGS'] =\"--conf spark.driver.memory=4g  pyspark-shell\"\n",
    "\n",
    "spark = SparkSession \\\n",
    "    .builder \\\n",
    "    .master(\"local[3]\") \\\n",
    "    .appName(\"Group2\") \\\n",
    "    .config('spark.ui.port', '4058') \\\n",
    "    .getOrCreate()\n",
    "\n",
    "sc = spark.sparkContext\n",
    "print(sc)"
   ]
  },
  {
   "cell_type": "code",
   "execution_count": null,
   "metadata": {},
   "outputs": [],
   "source": [
    "spark.stop()"
   ]
  },
  {
   "cell_type": "markdown",
   "metadata": {},
   "source": [
    "## 1. Counting of unique items and features"
   ]
  },
  {
   "cell_type": "markdown",
   "metadata": {},
   "source": [
    "### a) Features data"
   ]
  },
  {
   "cell_type": "markdown",
   "metadata": {},
   "source": [
    "#### Loading items features data"
   ]
  },
  {
   "cell_type": "code",
   "execution_count": 3,
   "metadata": {},
   "outputs": [
    {
     "data": {
      "text/plain": [
       "[(2, (56, 365)), (2, (62, 801)), (2, (68, 351))]"
      ]
     },
     "execution_count": 3,
     "metadata": {},
     "output_type": "execute_result"
    }
   ],
   "source": [
    "# loading the features data and storing them in an rdd with the structure : \n",
    "#('item_id', ('feature_category_id', 'feature_value_id'))\n",
    "\n",
    "featuresRDD = sc.textFile('dressipi_recsys2022/item_features.csv').map(lambda x: (x.split(',')[0], x.split(',')[1], x.split(',')[2])).filter(lambda x: x[0] != 'item_id')\n",
    "featuresRDD = featuresRDD.map(lambda x: (int(x[0]), (int(x[1]), int(x[2]))))\n",
    "featuresRDD.take(3)"
   ]
  },
  {
   "cell_type": "markdown",
   "metadata": {},
   "source": [
    "#### unique item count in featuresRDD"
   ]
  },
  {
   "cell_type": "code",
   "execution_count": 4,
   "metadata": {},
   "outputs": [
    {
     "data": {
      "text/plain": [
       "23691"
      ]
     },
     "execution_count": 4,
     "metadata": {},
     "output_type": "execute_result"
    }
   ],
   "source": [
    "# item_id are the keys of the pair rdd featuresRDD so with a groupByKey we get an rdd where each line corresponds to a unique item_id\n",
    "unique_item = featuresRDD.groupByKey()\n",
    "unique_item.count() \n"
   ]
  },
  {
   "cell_type": "markdown",
   "metadata": {},
   "source": [
    "#### unique feature category and number of items per features counts"
   ]
  },
  {
   "cell_type": "code",
   "execution_count": 5,
   "metadata": {},
   "outputs": [
    {
     "name": "stdout",
     "output_type": "stream",
     "text": [
      "number of features : 73\n"
     ]
    }
   ],
   "source": [
    "    #x[1][0] represents feature_category_id\n",
    "feature_count = featuresRDD.map(lambda x: (x[1][0], 1)).reduceByKey(lambda x,y : x+y)\n",
    "number_of_features = feature_count.count()\n",
    "print('number of features : ' +str(number_of_features))\n"
   ]
  },
  {
   "cell_type": "code",
   "execution_count": 6,
   "metadata": {},
   "outputs": [
    {
     "data": {
      "text/plain": [
       "<matplotlib.lines.Line2D at 0x7f5e29381710>"
      ]
     },
     "execution_count": 6,
     "metadata": {},
     "output_type": "execute_result"
    },
    {
     "data": {
      "image/png": "[encoded data removed]",
      "text/plain": [
       "<Figure size 1080x576 with 1 Axes>"
      ]
     },
     "metadata": {
      "needs_background": "light"
     },
     "output_type": "display_data"
    }
   ],
   "source": [
    "feature_histo = feature_count.sortBy(lambda x: -x[1]).collect()\n",
    "df = pd.DataFrame(feature_histo, columns=['Feature', 'frequency'])\n",
    "df.plot(kind='bar', x='Feature',figsize=(15,8))\n",
    "plt.axvline(x = 14.5, color='r', linestyle='dotted')"
   ]
  },
  {
   "cell_type": "code",
   "execution_count": 8,
   "metadata": {},
   "outputs": [
    {
     "name": "stdout",
     "output_type": "stream",
     "text": [
      "15\n",
      "[55, 67, 71, 49, 31, 3, 25, 29, 60, 6, 68, 46, 72, 54, 62]\n"
     ]
    }
   ],
   "source": [
    "max_items_features = feature_count.map(lambda x: x[1])\n",
    "n = 13000 #threshold for the number of items for which the feature has a defined value\n",
    "high_feature_count = feature_count.filter(lambda x : x[1] > n).count()\n",
    "print(high_feature_count) \n",
    "feature_indices = feature_count.filter(lambda x : x[1] > n).map(lambda x: (x[0] - 1)).collect() #the feature_category_id go from 1 to 73 so their indices go from 0 to 72\n",
    "print(feature_indices)"
   ]
  },
  {
   "cell_type": "markdown",
   "metadata": {},
   "source": [
    "### b) Sessions data"
   ]
  },
  {
   "cell_type": "markdown",
   "metadata": {},
   "source": [
    "#### load train_sessions "
   ]
  },
  {
   "cell_type": "code",
   "execution_count": 9,
   "metadata": {},
   "outputs": [
    {
     "name": "stdout",
     "output_type": "stream",
     "text": [
      "#events = 4743820\n"
     ]
    },
    {
     "data": {
      "text/plain": [
       "[(9655, (3, 1608323100.0, 0)),\n",
       " (9655, (3, 1608322788.0, 0)),\n",
       " (15654, (13, 1584124527.0, 0))]"
      ]
     },
     "execution_count": 9,
     "metadata": {},
     "output_type": "execute_result"
    }
   ],
   "source": [
    "# The item_id is chosen as the key and (session_id, timestamp) as the value\n",
    "sessions_RDD = sc.textFile('dressipi_recsys2022/train_sessions.csv') \\\n",
    "    .map(lambda x: (x.split(',')[1], x.split(',')[0], x.split(',')[2])) \\\n",
    "    .filter(lambda x: x[0] != 'item_id') \\\n",
    "    .map(lambda x: (int(x[0]), (int(x[1]), datetime.strptime(x[2][:19], '%Y-%m-%d %H:%M:%S').timestamp(), 0)))\n",
    "#0 indicates non purchased item\n",
    "c = sessions_RDD.count()\n",
    "print('#events = ' + str(c))\n",
    "sessions_RDD.take(3)"
   ]
  },
  {
   "cell_type": "code",
   "execution_count": 11,
   "metadata": {},
   "outputs": [
    {
     "data": {
      "text/plain": [
       "[(11234, (3747794, 1577833201.0, 0))]"
      ]
     },
     "execution_count": 11,
     "metadata": {},
     "output_type": "execute_result"
    }
   ],
   "source": [
    "#first items\n",
    "chronological_RDD = sessions_RDD.sortBy(lambda x: x[1][1])\n",
    "chronological_RDD.take(1)"
   ]
  },
  {
   "cell_type": "markdown",
   "metadata": {},
   "source": [
    "#### number of feature appearing in more that n object's description"
   ]
  },
  {
   "cell_type": "code",
   "execution_count": 12,
   "metadata": {},
   "outputs": [
    {
     "data": {
      "text/plain": [
       "[(17618, (3674124, 1622497413.0, 0))]"
      ]
     },
     "execution_count": 12,
     "metadata": {},
     "output_type": "execute_result"
    }
   ],
   "source": [
    "#last items\n",
    "unchronological_RDD = sessions_RDD.sortBy(lambda x: -x[1][1])\n",
    "unchronological_RDD.take(1)"
   ]
  },
  {
   "cell_type": "code",
   "execution_count": 13,
   "metadata": {},
   "outputs": [
    {
     "data": {
      "text/plain": [
       "datetime.datetime(2021, 5, 31, 23, 43, 33)"
      ]
     },
     "execution_count": 13,
     "metadata": {},
     "output_type": "execute_result"
    }
   ],
   "source": [
    "datetime.fromtimestamp(1622497413.0)"
   ]
  },
  {
   "cell_type": "code",
   "execution_count": 14,
   "metadata": {
    "scrolled": true
   },
   "outputs": [
    {
     "name": "stdout",
     "output_type": "stream",
     "text": [
      "2020-01-01 00:00:01\n",
      "2021-05-31 23:43:33\n",
      "516 days, 22:43:32\n"
     ]
    }
   ],
   "source": [
    "#first and last and time between the 2\n",
    "print(datetime.fromtimestamp(1577833201.0))\n",
    "print(datetime.fromtimestamp(1622497413.0))\n",
    "print(datetime.fromtimestamp(1622497413.0-1577833201.0)-datetime.fromtimestamp(0))"
   ]
  },
  {
   "cell_type": "markdown",
   "metadata": {},
   "source": [
    "#### Delete items consulted more than once in the same session (keep just 1 occurence per item)"
   ]
  },
  {
   "cell_type": "code",
   "execution_count": 15,
   "metadata": {},
   "outputs": [],
   "source": [
    "# A new key (sess_id, item_id) is created (we want max 1 of each). The reduceByKey groups together the multiple\n",
    "# occurences of an item in a session. Only the first occurence is kept\n",
    "unique_sess_item = sessions_RDD.map(lambda x: ((x[0], x[1][0]),(x[1][1],x[1][2]))).reduceByKey(lambda x, y : x+y)\n",
    "sessions_RDD = unique_sess_item.map(lambda x: (x[0][0], (x[0][1], x[1][0], x[1][1])))\n"
   ]
  },
  {
   "cell_type": "markdown",
   "metadata": {},
   "source": [
    "#### Loading the purchased items data"
   ]
  },
  {
   "cell_type": "code",
   "execution_count": 16,
   "metadata": {},
   "outputs": [
    {
     "data": {
      "text/plain": [
       "[(15085, (3, 1608323207.0, 1)),\n",
       " (18626, (13, 1584124575.0, 1)),\n",
       " (24911, (18, 1598462432.0, 1))]"
      ]
     },
     "execution_count": 16,
     "metadata": {},
     "output_type": "execute_result"
    }
   ],
   "source": [
    "P_sessions_RDD = sc.textFile('dressipi_recsys2022/train_purchases.csv') \\\n",
    "    .map(lambda x: (x.split(',')[1], x.split(',')[0], x.split(',')[2])) \\\n",
    "    .filter(lambda x: x[0] != 'item_id') \\\n",
    "    .map(lambda x: (int(x[0]), (int(x[1]), datetime.strptime(x[2][:19], '%Y-%m-%d %H:%M:%S').timestamp(), 1)))\n",
    "\n",
    "P_sessions_RDD.take(3)"
   ]
  },
  {
   "cell_type": "markdown",
   "metadata": {},
   "source": [
    "#### Add purchased items to the dataset\n"
   ]
  },
  {
   "cell_type": "code",
   "execution_count": 17,
   "metadata": {},
   "outputs": [],
   "source": [
    "all_sessions_RDD = sessions_RDD.union(P_sessions_RDD)"
   ]
  },
  {
   "cell_type": "markdown",
   "metadata": {},
   "source": [
    "### c) Train-test split and undersampling the dataset"
   ]
  },
  {
   "cell_type": "code",
   "execution_count": 18,
   "metadata": {},
   "outputs": [
    {
     "name": "stdout",
     "output_type": "stream",
     "text": [
      "count = 114253\n"
     ]
    },
    {
     "data": {
      "text/plain": [
       "[(19143, (261, 1622460918.0, 0)),\n",
       " (11998, (526, 1622183473.0, 0)),\n",
       " (5191, (937, 1622032133.0, 0))]"
      ]
     },
     "execution_count": 18,
     "metadata": {},
     "output_type": "execute_result"
    }
   ],
   "source": [
    "# we take the last month of the dataset as test set\n",
    "t_end = datetime.strptime('2021-05-26 00:00:01', '%Y-%m-%d %H:%M:%S').timestamp()\n",
    "test_sessions_RDD = reduced_sessions_RDD = all_sessions_RDD.filter(lambda x: x[1][1] > t_end)\n",
    "print('count = ' + str(test_sessions_RDD.count()))\n",
    "test_sessions_RDD.take(3)"
   ]
  },
  {
   "cell_type": "code",
   "execution_count": 19,
   "metadata": {},
   "outputs": [
    {
     "name": "stdout",
     "output_type": "stream",
     "text": [
      "100108\n"
     ]
    }
   ],
   "source": [
    "#sample a small part of the dataset to make the computations faster during the coding and debugging phases\n",
    "reduced_sessions_RDD = all_sessions_RDD.filter(lambda x: x[1][1] < t_end).sample(False, 0.02)\n",
    "print(reduced_sessions_RDD.count())"
   ]
  },
  {
   "cell_type": "code",
   "execution_count": 20,
   "metadata": {},
   "outputs": [
    {
     "data": {
      "text/plain": [
       "19646"
      ]
     },
     "execution_count": 20,
     "metadata": {},
     "output_type": "execute_result"
    }
   ],
   "source": [
    "#number of purchased items (which is = to the number of sessions) in the reduced dataset\n",
    "reduced_purchased = reduced_sessions_RDD.filter(lambda x: x[1][2]==1)\n",
    "reduced_purchased.count()"
   ]
  },
  {
   "cell_type": "markdown",
   "metadata": {},
   "source": [
    "#### unique item count from train_sessions"
   ]
  },
  {
   "cell_type": "code",
   "execution_count": 21,
   "metadata": {},
   "outputs": [
    {
     "name": "stdout",
     "output_type": "stream",
     "text": [
      "15362\n"
     ]
    }
   ],
   "source": [
    "#number of unique items present in the reduced dataset (out of the ~24,000)\n",
    "unique_item_list = reduced_sessions_RDD.groupByKey()\n",
    "unique_item_count = unique_item_list.count()\n",
    "print(unique_item_count)"
   ]
  },
  {
   "cell_type": "markdown",
   "metadata": {},
   "source": [
    "## 2. Reshaping the dataset\n",
    "\n",
    "### a) Features"
   ]
  },
  {
   "cell_type": "markdown",
   "metadata": {},
   "source": [
    "#### Verification that no feature has value 0 "
   ]
  },
  {
   "cell_type": "code",
   "execution_count": 22,
   "metadata": {},
   "outputs": [
    {
     "data": {
      "text/plain": [
       "[]"
      ]
     },
     "execution_count": 22,
     "metadata": {},
     "output_type": "execute_result"
    }
   ],
   "source": [
    "# verification that no feature can take the value 0\n",
    "zero_featuresRDD = featuresRDD.filter(lambda x: x[1][1] == 0)\n",
    "zero_featuresRDD.collect()"
   ]
  },
  {
   "cell_type": "code",
   "execution_count": 23,
   "metadata": {},
   "outputs": [],
   "source": [
    "def sparse_tuple(x):   \n",
    "    #x = tuple where x[0] is an index and x[1] a value\n",
    "    #Creates a list (or tuple) with length 73 (72 zeros and x[1] at index [0])   \n",
    "    res = [0,]*number_of_features\n",
    "    res[x[0]-1] = x[1]\n",
    "    #res = tuple(res)\n",
    "    print('res : ' + str(res))\n",
    "    #print(res)\n",
    "    return res\n",
    "\n",
    "def add_tuple(x, y, sign):    \n",
    "    #Addition of tuple (or list) element per element  \n",
    "    # sign = +1 or -1\n",
    "    n = len(x)\n",
    "    if n != len(y):\n",
    "        raise Exception('x & y of different lengths')\n",
    "    res = [0]*n\n",
    "    for i in range(n):\n",
    "        res[i] = x[i]+ sign * y[i]\n",
    "    return(tuple(res))\n",
    "\n",
    "def square_tuple(x):\n",
    "    res = []\n",
    "    for i in x:\n",
    "        res.append(i**2)\n",
    "    return res\n",
    "\n",
    "def divide_tuple(vec):\n",
    "    # a function to divide a input vector into a list of tuples of lengths 2\n",
    "    res = []\n",
    "    for i in range(len(vec)//2):\n",
    "        res.append((vec[2*i], vec[2*i+1]))\n",
    "    return res\n",
    "\n",
    "def take_indices(vec, idx):\n",
    "    # selection of items from a list from a list of indices\n",
    "    res = []\n",
    "    for i in idx:\n",
    "        res.append(vec[i])\n",
    "    return res\n"
   ]
  },
  {
   "cell_type": "markdown",
   "metadata": {},
   "source": [
    "#### selection of the features describing the most items"
   ]
  },
  {
   "cell_type": "code",
   "execution_count": 24,
   "metadata": {},
   "outputs": [
    {
     "data": {
      "text/plain": [
       "23691"
      ]
     },
     "execution_count": 24,
     "metadata": {},
     "output_type": "execute_result"
    }
   ],
   "source": [
    "# map the dataset to have on each line 70 items = 0, 1 item with the feature value \n",
    "dataset = featuresRDD.map(lambda x : (x[0], sparse_tuple(x[1])))\n",
    "# reduction to merge all the lines of the same objects, to have one line with the 72 features for each item\n",
    "dataset = dataset.reduceByKey(lambda x,y : add_tuple(x,y,1)).sortBy(lambda x: x[0]).map(lambda x: (x[0],x[1]))\n",
    "count = dataset.count()\n",
    "count"
   ]
  },
  {
   "cell_type": "code",
   "execution_count": 25,
   "metadata": {},
   "outputs": [
    {
     "data": {
      "text/plain": [
       "[(2, [365, 351, 75, 76, 0, 0, 0, 0, 462, 394, 885, 123, 0, 0, 0]),\n",
       " (3, [365, 14, 75, 240, 902, 618, 268, 0, 706, 452, 592, 549, 544, 129, 861]),\n",
       " (4, [365, 373, 75, 317, 902, 618, 268, 0, 462, 837, 538, 218, 544, 267, 861])]"
      ]
     },
     "execution_count": 25,
     "metadata": {},
     "output_type": "execute_result"
    }
   ],
   "source": [
    "items_dataset = dataset.map(lambda x: (x[0], take_indices(x[1], feature_indices))) \n",
    "items_dataset.take(3)\n",
    "#now each item is described by a list of 15 features"
   ]
  },
  {
   "cell_type": "markdown",
   "metadata": {},
   "source": [
    "### b) Sessions"
   ]
  },
  {
   "cell_type": "code",
   "execution_count": 26,
   "metadata": {},
   "outputs": [],
   "source": [
    "def reorder_tuple(row):\n",
    "    # input of the function is the RDD which results from the join operation between reduced_session_RDD and items_dataset\n",
    "    # the structure of the input is a tuple (item_id, ((session_id, timestamp, 0/1),[item features]))\n",
    "    #the elements are reordered to get an output : (sess_id,(item_id, item_features))\n",
    "    item_id = row[0]\n",
    "    sess_id = row[1][0][0]\n",
    "    timestamp = row[1][0][1]\n",
    "    item_features = row[1][1] + [timestamp] #the timestamp is added to the features\n",
    "    return (sess_id,(item_id, item_features))\n",
    "\n",
    "def separate_lists(x, step):\n",
    "    # x is a list with the features of all the objects of a session. The function separates this list to get a distinct list\n",
    "    # for each object\n",
    "    res = []\n",
    "    for i in range(len(x) // step):\n",
    "        res.append(x[step*i:step*(i+1)])\n",
    "    return res\n"
   ]
  },
  {
   "cell_type": "markdown",
   "metadata": {},
   "source": [
    "From the dataset and the train_sessions csv, we try to get a sessions dataset where each key is a session_id, \n",
    "and the value is a list of lists : a list of features for each item consulted during the session"
   ]
  },
  {
   "cell_type": "code",
   "execution_count": 27,
   "metadata": {},
   "outputs": [],
   "source": [
    "# join the dataset with the sessions RDD in order to link the information from the 2 RDDs and get an RDD with the features and \n",
    "# timestamps of each object in each session\n",
    "joined_RDD = reduced_sessions_RDD.join(items_dataset).map(lambda x: reorder_tuple(x))\n",
    "# Reduce the RDD to have a single key for each session\n",
    "reduced_joined_RDD = joined_RDD.reduceByKey(lambda x, y: x+y )\n",
    "# Get a list of lists of features for each item\n",
    "sessions_dataset = reduced_joined_RDD.map(lambda x: (x[0],separate_lists(x[1],2)))\n"
   ]
  },
  {
   "cell_type": "code",
   "execution_count": 28,
   "metadata": {
    "collapsed": true
   },
   "outputs": [
    {
     "data": {
      "text/plain": [
       "[(540,\n",
       "  [(24760,\n",
       "    [365,\n",
       "     351,\n",
       "     829,\n",
       "     901,\n",
       "     0,\n",
       "     618,\n",
       "     0,\n",
       "     0,\n",
       "     808,\n",
       "     798,\n",
       "     639,\n",
       "     165,\n",
       "     544,\n",
       "     267,\n",
       "     861,\n",
       "     1591595712.0])])]"
      ]
     },
     "execution_count": 28,
     "metadata": {},
     "output_type": "execute_result"
    }
   ],
   "source": [
    "sessions_dataset.take(1)"
   ]
  },
  {
   "cell_type": "code",
   "execution_count": 29,
   "metadata": {},
   "outputs": [
    {
     "name": "stdout",
     "output_type": "stream",
     "text": [
      "92044\n"
     ]
    }
   ],
   "source": [
    "N_sessions = sessions_dataset.count()\n",
    "print(N_sessions)"
   ]
  },
  {
   "cell_type": "markdown",
   "metadata": {},
   "source": [
    "## 3. Feature engineering\n",
    "\n",
    "### A) Features computation"
   ]
  },
  {
   "cell_type": "code",
   "execution_count": 30,
   "metadata": {},
   "outputs": [],
   "source": [
    "def merge_objects(sess):\n",
    "    # takes as input a list of length = nb of objects in session, each item is the list of features descibing the object\n",
    "    # returns a list of length = nb of features where each item is the values of each object for the feature\n",
    "    print(sess)\n",
    "    res = list(sess[0])\n",
    "    for i in range(len(res)):\n",
    "        res[i] = [res[i]]\n",
    "    for i in range(len(res)):\n",
    "        for j in range(1,len(sess)):\n",
    "            res[i].append(sess[j][i])\n",
    "    return res\n",
    "\n",
    "def freq_ent(vec):\n",
    "    #input : vector with the values of a given feature for the different objects in a session\n",
    "    #for the item feature fi, the function computes the session features Fi, Ei and Fi/(1+Ei)\n",
    "    #where Fi takes the nonzero value of fi that is the most frequent among the items in the session, and\n",
    "    #Ei is the shannon entropy of the distribution of fi\n",
    "    \n",
    "    #frequencies is an array where each index corresponds to a feature value, and each element is the number of items in the session with this value\n",
    "    frequencies = np.bincount(np.array(vec))\n",
    "    #all the 0 in the frequencies array (corresponding to feature values not appearing in the input vec) are removed\n",
    "    n_z_frequencies = frequencies[np.nonzero(frequencies)]\n",
    "    e = float(entropy(n_z_frequencies))\n",
    "    #the features with value 0 are features which have no defined value for the item, so they are ignored for the computation of Fi\n",
    "    frequencies[0] = 0\n",
    "    max_freq = int(frequencies.argmax())\n",
    "    f_div_e = float(max_freq)/(1+e)\n",
    "    return (max_freq, e, f_div_e)\n",
    "    \n",
    "def entropy(vec):\n",
    "    #computes shannon entropy from frequencies vector\n",
    "    res = 0\n",
    "    n = sum(vec)\n",
    "    if n <= 1:\n",
    "        return 0\n",
    "    else:\n",
    "        probs = vec/n\n",
    "        for i in probs:\n",
    "            res -= (i * math.log(i, 2))\n",
    "        return res \n",
    "\n",
    "def freq_ent_loop(vec):\n",
    "    # takes as input the array with the values of the 15 objects features for all the items of the sessions \n",
    "    #(array of size n_features with each item in the array being an array of size n_objects in the session)\n",
    "    \n",
    "    #Computes the sessions features by looping on each of the 15 objects features. \n",
    "    #It computes -F : the value most frequent for the objects in the session\n",
    "    #            -ent : the shannon entropy of the values that each feature takes on the different objects of the session\n",
    "    #            -F_div_ent : F/(1+ent)\n",
    "    F = []\n",
    "    ent = []\n",
    "    F_div_ent = []\n",
    "    for i in vec:\n",
    "        (f,e,fde) = freq_ent(i)\n",
    "        F.append(f)\n",
    "        ent.append(e)\n",
    "        F_div_ent.append(fde)\n",
    "    print('F : ' + str(F))\n",
    "    print('ent : ' + str(ent))\n",
    "    print('F_div_ent : ' + str(F_div_ent))\n",
    "    return(F+ent+F_div_ent)\n"
   ]
  },
  {
   "cell_type": "code",
   "execution_count": 31,
   "metadata": {},
   "outputs": [],
   "source": [
    "# for each session, put all the values for each features in an array (in other words : transpose the items/features matrix in each session)\n",
    "sessions_features_counts = sessions_dataset.map(lambda x: (x[0], merge_objects([item[1][:15] for item in x[1]])))\n"
   ]
  },
  {
   "cell_type": "code",
   "execution_count": 32,
   "metadata": {
    "collapsed": true
   },
   "outputs": [
    {
     "data": {
      "text/plain": [
       "[(540,\n",
       "  [[365],\n",
       "   [351],\n",
       "   [829],\n",
       "   [901],\n",
       "   [0],\n",
       "   [618],\n",
       "   [0],\n",
       "   [0],\n",
       "   [808],\n",
       "   [798],\n",
       "   [639],\n",
       "   [165],\n",
       "   [544],\n",
       "   [267],\n",
       "   [861]]),\n",
       " (1188310,\n",
       "  [[365],\n",
       "   [351],\n",
       "   [829],\n",
       "   [901],\n",
       "   [0],\n",
       "   [618],\n",
       "   [0],\n",
       "   [0],\n",
       "   [808],\n",
       "   [798],\n",
       "   [639],\n",
       "   [165],\n",
       "   [544],\n",
       "   [267],\n",
       "   [861]])]"
      ]
     },
     "execution_count": 32,
     "metadata": {},
     "output_type": "execute_result"
    }
   ],
   "source": [
    "sessions_features_counts.take(2)"
   ]
  },
  {
   "cell_type": "code",
   "execution_count": 33,
   "metadata": {
    "collapsed": true
   },
   "outputs": [
    {
     "data": {
      "text/plain": [
       "[(540,\n",
       "  [365,\n",
       "   351,\n",
       "   829,\n",
       "   901,\n",
       "   0,\n",
       "   618,\n",
       "   0,\n",
       "   0,\n",
       "   808,\n",
       "   798,\n",
       "   639,\n",
       "   165,\n",
       "   544,\n",
       "   267,\n",
       "   861,\n",
       "   0.0,\n",
       "   0.0,\n",
       "   0.0,\n",
       "   0.0,\n",
       "   0.0,\n",
       "   0.0,\n",
       "   0.0,\n",
       "   0.0,\n",
       "   0.0,\n",
       "   0.0,\n",
       "   0.0,\n",
       "   0.0,\n",
       "   0.0,\n",
       "   0.0,\n",
       "   0.0,\n",
       "   365.0,\n",
       "   351.0,\n",
       "   829.0,\n",
       "   901.0,\n",
       "   0.0,\n",
       "   618.0,\n",
       "   0.0,\n",
       "   0.0,\n",
       "   808.0,\n",
       "   798.0,\n",
       "   639.0,\n",
       "   165.0,\n",
       "   544.0,\n",
       "   267.0,\n",
       "   861.0]),\n",
       " (1188310,\n",
       "  [365,\n",
       "   351,\n",
       "   829,\n",
       "   901,\n",
       "   0,\n",
       "   618,\n",
       "   0,\n",
       "   0,\n",
       "   808,\n",
       "   798,\n",
       "   639,\n",
       "   165,\n",
       "   544,\n",
       "   267,\n",
       "   861,\n",
       "   0.0,\n",
       "   0.0,\n",
       "   0.0,\n",
       "   0.0,\n",
       "   0.0,\n",
       "   0.0,\n",
       "   0.0,\n",
       "   0.0,\n",
       "   0.0,\n",
       "   0.0,\n",
       "   0.0,\n",
       "   0.0,\n",
       "   0.0,\n",
       "   0.0,\n",
       "   0.0,\n",
       "   365.0,\n",
       "   351.0,\n",
       "   829.0,\n",
       "   901.0,\n",
       "   0.0,\n",
       "   618.0,\n",
       "   0.0,\n",
       "   0.0,\n",
       "   808.0,\n",
       "   798.0,\n",
       "   639.0,\n",
       "   165.0,\n",
       "   544.0,\n",
       "   267.0,\n",
       "   861.0]),\n",
       " (7860,\n",
       "  [365,\n",
       "   106,\n",
       "   75,\n",
       "   317,\n",
       "   0,\n",
       "   618,\n",
       "   0,\n",
       "   0,\n",
       "   462,\n",
       "   394,\n",
       "   885,\n",
       "   123,\n",
       "   544,\n",
       "   267,\n",
       "   861,\n",
       "   0.0,\n",
       "   0.0,\n",
       "   0.0,\n",
       "   0.0,\n",
       "   0.0,\n",
       "   0.0,\n",
       "   0.0,\n",
       "   0.0,\n",
       "   0.0,\n",
       "   0.0,\n",
       "   0.0,\n",
       "   0.0,\n",
       "   0.0,\n",
       "   0.0,\n",
       "   0.0,\n",
       "   365.0,\n",
       "   106.0,\n",
       "   75.0,\n",
       "   317.0,\n",
       "   0.0,\n",
       "   618.0,\n",
       "   0.0,\n",
       "   0.0,\n",
       "   462.0,\n",
       "   394.0,\n",
       "   885.0,\n",
       "   123.0,\n",
       "   544.0,\n",
       "   267.0,\n",
       "   861.0])]"
      ]
     },
     "execution_count": 33,
     "metadata": {},
     "output_type": "execute_result"
    }
   ],
   "source": [
    "# each session is mapped to an array of the session features (most frequent value for each item feature, and entropy of each\n",
    "#item feature)\n",
    "freq_ent_sessions = sessions_features_counts.map(lambda x: (x[0], freq_ent_loop(x[1])))\n",
    "\n",
    "freq_ent_sessions.cache()\n",
    "freq_ent_sessions.take(3)"
   ]
  },
  {
   "cell_type": "markdown",
   "metadata": {},
   "source": [
    "### B) Values imputations and normalizations\n",
    "\n",
    "#### Replacing F features = 0 by the average of the feature over all sessions"
   ]
  },
  {
   "cell_type": "code",
   "execution_count": 34,
   "metadata": {},
   "outputs": [],
   "source": [
    "# computation of the means and variances of the different features. (variances are not used here but just later for normalization)\n",
    "sessions_features_means = freq_ent_sessions.map(lambda x: x[1]).reduce(lambda x, y: add_tuple(x,y,1))\n",
    "means = np.array(sessions_features_means)/N_sessions\n",
    " #compute the square of the difference of each value with the mean of the feature\n",
    "sessions_features_variance = freq_ent_sessions.map(lambda x: (square_tuple(add_tuple(x[1],means,-1))))\n",
    "variances = sessions_features_variance.reduce(lambda x, y: add_tuple(x,y,1)) #computes the sum of the squares of the differences to the mean\n",
    "std_dev = np.sqrt(np.array(variances)/N_sessions) #divides by the number of sessions to get the variance then takes the square root to take the standard deviation"
   ]
  },
  {
   "cell_type": "code",
   "execution_count": 35,
   "metadata": {},
   "outputs": [],
   "source": [
    "def replace_zeros_sess(vec):\n",
    "    #takes an array as input and replace the 0s by the value of the mean (broadcasted) of the corresponding index\n",
    "    means = broadcasted_means.value\n",
    "    for i in range(len(vec)):\n",
    "        if int(vec[i]) == 0:\n",
    "            vec[i] = means[i]\n",
    "    return vec\n",
    "\n",
    "def fill_features_vector(vec):\n",
    "    #replaces the zeros of the 15 first and last features (but not the entropies) \n",
    "    vec[:15] = replace_zeros_sess(vec[:15])\n",
    "    vec[30:] = replace_zeros_sess(vec[30:])\n",
    "    return vec"
   ]
  },
  {
   "cell_type": "code",
   "execution_count": 37,
   "metadata": {},
   "outputs": [
    {
     "data": {
      "text/plain": [
       "PythonRDD[90] at RDD at PythonRDD.scala:53"
      ]
     },
     "execution_count": 37,
     "metadata": {},
     "output_type": "execute_result"
    }
   ],
   "source": [
    "#the means and standard deviation arrays are going to be used on every node for the normalization, so they are broadcasted here\n",
    "broadcasted_means = sc.broadcast(means)\n",
    "broadcasted_std_dev = sc.broadcast(std_dev)\n",
    "filled_f_e_s = freq_ent_sessions.map(lambda x: (x[0], fill_features_vector(x[1])))\n",
    "freq_ent_sessions.unpersist()"
   ]
  },
  {
   "cell_type": "markdown",
   "metadata": {},
   "source": [
    "#### Normalization "
   ]
  },
  {
   "cell_type": "code",
   "execution_count": 36,
   "metadata": {},
   "outputs": [],
   "source": [
    "def standardize(vec):\n",
    "    #computes the normalized version of the input array, given broadcasted arrays of means and standard deviations \n",
    "    means = broadcasted_means.value\n",
    "    std_dev = broadcasted_std_dev.value\n",
    "    n = len(vec)\n",
    "    standardized_vec = []\n",
    "    for i in range(n):\n",
    "        res = (vec[i]-means[i])/std_dev[i]\n",
    "        standardized_vec.append(res)\n",
    "    return standardized_vec\n",
    "        "
   ]
  },
  {
   "cell_type": "code",
   "execution_count": 38,
   "metadata": {
    "collapsed": true
   },
   "outputs": [
    {
     "data": {
      "text/plain": [
       "[(540,\n",
       "  [0.03451268926377966,\n",
       "   -0.34785072390272176,\n",
       "   3.440498683591737,\n",
       "   1.305801887517942,\n",
       "   0.0,\n",
       "   0.367416888644638,\n",
       "   0.0,\n",
       "   0.0,\n",
       "   1.019151527818151,\n",
       "   1.4252794389556989,\n",
       "   -0.03601424103657584,\n",
       "   -0.6344888447738743,\n",
       "   0.5963526670851849,\n",
       "   -0.15245280098823324,\n",
       "   0.49218018929525464,\n",
       "   -0.08025459916750374,\n",
       "   -0.2566965611878411,\n",
       "   -0.20040284239920123,\n",
       "   -0.1766442901847516,\n",
       "   -0.20865227161819014,\n",
       "   -0.16833732175679217,\n",
       "   -0.21671659410136565,\n",
       "   -0.16581432873897423,\n",
       "   -0.21392188551743074,\n",
       "   -0.2447456351373295,\n",
       "   -0.2386770361823572,\n",
       "   -0.21909170775254466,\n",
       "   -0.15341343532079338,\n",
       "   -0.20238810043588956,\n",
       "   -0.16596100633967942,\n",
       "   0.04976929378192275,\n",
       "   -0.2992901063614986,\n",
       "   3.46548456216079,\n",
       "   1.3085953318609314,\n",
       "   0.030450979508648165,\n",
       "   0.39690622303057016,\n",
       "   0.030388436870097815,\n",
       "   0.02622648278621914,\n",
       "   1.0179606679298656,\n",
       "   1.4525755164375753,\n",
       "   0.03383560450175011,\n",
       "   -0.6147763717166682,\n",
       "   0.6129664674479756,\n",
       "   -0.12438307335230904,\n",
       "   0.5175248382932977]),\n",
       " (1188310,\n",
       "  [0.03451268926377966,\n",
       "   -0.34785072390272176,\n",
       "   3.440498683591737,\n",
       "   1.305801887517942,\n",
       "   0.0,\n",
       "   0.367416888644638,\n",
       "   0.0,\n",
       "   0.0,\n",
       "   1.019151527818151,\n",
       "   1.4252794389556989,\n",
       "   -0.03601424103657584,\n",
       "   -0.6344888447738743,\n",
       "   0.5963526670851849,\n",
       "   -0.15245280098823324,\n",
       "   0.49218018929525464,\n",
       "   -0.08025459916750374,\n",
       "   -0.2566965611878411,\n",
       "   -0.20040284239920123,\n",
       "   -0.1766442901847516,\n",
       "   -0.20865227161819014,\n",
       "   -0.16833732175679217,\n",
       "   -0.21671659410136565,\n",
       "   -0.16581432873897423,\n",
       "   -0.21392188551743074,\n",
       "   -0.2447456351373295,\n",
       "   -0.2386770361823572,\n",
       "   -0.21909170775254466,\n",
       "   -0.15341343532079338,\n",
       "   -0.20238810043588956,\n",
       "   -0.16596100633967942,\n",
       "   0.04976929378192275,\n",
       "   -0.2992901063614986,\n",
       "   3.46548456216079,\n",
       "   1.3085953318609314,\n",
       "   0.030450979508648165,\n",
       "   0.39690622303057016,\n",
       "   0.030388436870097815,\n",
       "   0.02622648278621914,\n",
       "   1.0179606679298656,\n",
       "   1.4525755164375753,\n",
       "   0.03383560450175011,\n",
       "   -0.6147763717166682,\n",
       "   0.6129664674479756,\n",
       "   -0.12438307335230904,\n",
       "   0.5175248382932977]),\n",
       " (7860,\n",
       "  [0.03451268926377966,\n",
       "   -1.4195191277829038,\n",
       "   -0.3734307839955331,\n",
       "   -0.609275313918745,\n",
       "   0.0,\n",
       "   0.367416888644638,\n",
       "   0.0,\n",
       "   0.0,\n",
       "   -0.9517146751806271,\n",
       "   -0.1323306799150214,\n",
       "   0.9996443630358325,\n",
       "   -0.794098509287743,\n",
       "   0.5963526670851849,\n",
       "   -0.15245280098823324,\n",
       "   0.49218018929525464,\n",
       "   -0.08025459916750374,\n",
       "   -0.2566965611878411,\n",
       "   -0.20040284239920123,\n",
       "   -0.1766442901847516,\n",
       "   -0.20865227161819014,\n",
       "   -0.16833732175679217,\n",
       "   -0.21671659410136565,\n",
       "   -0.16581432873897423,\n",
       "   -0.21392188551743074,\n",
       "   -0.2447456351373295,\n",
       "   -0.2386770361823572,\n",
       "   -0.21909170775254466,\n",
       "   -0.15341343532079338,\n",
       "   -0.20238810043588956,\n",
       "   -0.16596100633967942,\n",
       "   0.04976929378192275,\n",
       "   -1.3481169116957812,\n",
       "   -0.36435196288749594,\n",
       "   -0.58795795780818,\n",
       "   0.030450979508648165,\n",
       "   0.39690622303057016,\n",
       "   0.030388436870097815,\n",
       "   0.02622648278621914,\n",
       "   -0.825507678982241,\n",
       "   -0.09266285321007116,\n",
       "   1.0234480620279909,\n",
       "   -0.7740477939000667,\n",
       "   0.6129664674479756,\n",
       "   -0.12438307335230904,\n",
       "   0.5175248382932977])]"
      ]
     },
     "execution_count": 38,
     "metadata": {},
     "output_type": "execute_result"
    }
   ],
   "source": [
    "# normalisation of the features\n",
    "standardized_sessions_dataset = filled_f_e_s.map(lambda x: (x[0], standardize(x[1])))\n",
    "standardized_sessions_dataset.cache()\n",
    "standardized_sessions_dataset.take(3)"
   ]
  },
  {
   "cell_type": "markdown",
   "metadata": {},
   "source": [
    "### C) Preprosessing for the test set"
   ]
  },
  {
   "cell_type": "code",
   "execution_count": 78,
   "metadata": {},
   "outputs": [
    {
     "data": {
      "text/plain": [
       "[(2100,\n",
       "  [0.04364460273238785,\n",
       "   -1.7376368225815568,\n",
       "   -0.09408286568413429,\n",
       "   0.03643496335047259,\n",
       "   0.0,\n",
       "   0.2741307974703113,\n",
       "   0.0,\n",
       "   0.338117077148136,\n",
       "   -1.0908156036600443,\n",
       "   0.05451374535816015,\n",
       "   1.055659607936106,\n",
       "   -0.7017484640396827,\n",
       "   0.2538531420531715,\n",
       "   -0.0446864292595035,\n",
       "   0.28718170286894457,\n",
       "   -0.23375909622120433,\n",
       "   -0.15175818095527874,\n",
       "   -0.969303662800613,\n",
       "   3.1387000892598067,\n",
       "   -1.0546910162311414,\n",
       "   -0.7118359211450609,\n",
       "   -1.0842523570002074,\n",
       "   2.376635194620061,\n",
       "   -1.352527952864886,\n",
       "   -1.2562837259114215,\n",
       "   -1.3397039734023781,\n",
       "   -0.930315270585661,\n",
       "   -0.5818495979339845,\n",
       "   -1.0247859652047393,\n",
       "   -0.7260181515690793,\n",
       "   0.2403325869639175,\n",
       "   -1.1827330623486263,\n",
       "   0.26627231146511937,\n",
       "   -1.548797549021643,\n",
       "   0.739822024230788,\n",
       "   0.7854512663949264,\n",
       "   0.69982263580792,\n",
       "   0.043218542902547306,\n",
       "   0.35417450277898826,\n",
       "   1.0115710819073283,\n",
       "   2.187735233108575,\n",
       "   -0.44658978967709717,\n",
       "   0.5603360482575273,\n",
       "   0.7791162694956432,\n",
       "   0.7926204341022673])]"
      ]
     },
     "execution_count": 78,
     "metadata": {},
     "output_type": "execute_result"
    }
   ],
   "source": [
    "#all the same operations are done to preprocess the test set, to use it in the validation phase of the prediction model (task 3)\n",
    "test_joined_RDD = test_sessions_RDD.join(items_dataset).map(lambda x: reorder_tuple(x))\n",
    "test_reduced_joined_RDD = test_joined_RDD.reduceByKey(lambda x, y: x+y )\n",
    "test_sessions_dataset = test_reduced_joined_RDD.map(lambda x: (x[0],separate_lists(x[1],2)))\n",
    "N_test_sessions = test_sessions_dataset.count()\n",
    "test_sessions_features_counts = test_sessions_dataset.map(lambda x: (x[0], merge_objects([item[1][:15] for item in x[1]])))\n",
    "test_freq_ent_sessions = test_sessions_features_counts.map(lambda x: (x[0], freq_ent_loop(x[1])))\n",
    "test_freq_ent_sessions.cache()\n",
    "test_freq_ent_sessions.take(1)\n",
    "test_sessions_features_means = test_freq_ent_sessions.map(lambda x: x[1]).reduce(lambda x, y: add_tuple(x,y,1))\n",
    "test_means = np.array(test_sessions_features_means)/N_test_sessions\n",
    "test_sessions_features_variance = test_freq_ent_sessions.map(lambda x: (square_tuple(add_tuple(x[1],test_means,-1))))\n",
    "test_variances = test_sessions_features_variance.reduce(lambda x, y: add_tuple(x,y,1)) \n",
    "test_std_dev = np.sqrt(np.array(test_variances)/N_test_sessions)\n",
    "broadcasted_means = sc.broadcast(test_means)\n",
    "broadcasted_std_dev = sc.broadcast(test_std_dev)\n",
    "test_filled_f_e_s = test_freq_ent_sessions.map(lambda x: (x[0], fill_features_vector(x[1])))\n",
    "#test_filled_f_e_s.take(2)\n",
    "test_freq_ent_sessions.unpersist()\n",
    "test_standardized_sessions_dataset = test_filled_f_e_s.map(lambda x: (x[0], standardize(x[1])))\n",
    "test_standardized_sessions_dataset.take(1)"
   ]
  },
  {
   "cell_type": "markdown",
   "metadata": {},
   "source": [
    "### D) Plotting the distribution of the different variables\n",
    "\n",
    "#### Plot entropies"
   ]
  },
  {
   "cell_type": "code",
   "execution_count": 40,
   "metadata": {
    "collapsed": true
   },
   "outputs": [
    {
     "data": {
      "image/png": "[encoded data removed]",
      "text/plain": [
       "<Figure size 432x288 with 1 Axes>"
      ]
     },
     "metadata": {
      "needs_background": "light"
     },
     "output_type": "display_data"
    },
    {
     "data": {
      "image/png": "[encoded data removed]",
      "text/plain": [
       "<Figure size 432x288 with 1 Axes>"
      ]
     },
     "metadata": {
      "needs_background": "light"
     },
     "output_type": "display_data"
    },
    {
     "data": {
      "image/png": "[encoded data removed]",
      "text/plain": [
       "<Figure size 432x288 with 1 Axes>"
      ]
     },
     "metadata": {
      "needs_background": "light"
     },
     "output_type": "display_data"
    },
    {
     "data": {
      "image/png": "[encoded data removed]",
      "text/plain": [
       "<Figure size 432x288 with 1 Axes>"
      ]
     },
     "metadata": {
      "needs_background": "light"
     },
     "output_type": "display_data"
    },
    {
     "data": {
      "image/png": "[encoded data removed]",
      "text/plain": [
       "<Figure size 432x288 with 1 Axes>"
      ]
     },
     "metadata": {
      "needs_background": "light"
     },
     "output_type": "display_data"
    },
    {
     "data": {
      "image/png": "[encoded data removed]",
      "text/plain": [
       "<Figure size 432x288 with 1 Axes>"
      ]
     },
     "metadata": {
      "needs_background": "light"
     },
     "output_type": "display_data"
    },
    {
     "data": {
      "image/png": "[encoded data removed]",
      "text/plain": [
       "<Figure size 432x288 with 1 Axes>"
      ]
     },
     "metadata": {
      "needs_background": "light"
     },
     "output_type": "display_data"
    },
    {
     "data": {
      "image/png": "[encoded data removed]",
      "text/plain": [
       "<Figure size 432x288 with 1 Axes>"
      ]
     },
     "metadata": {
      "needs_background": "light"
     },
     "output_type": "display_data"
    },
    {
     "data": {
      "image/png": "[encoded data removed]",
      "text/plain": [
       "<Figure size 432x288 with 1 Axes>"
      ]
     },
     "metadata": {
      "needs_background": "light"
     },
     "output_type": "display_data"
    },
    {
     "data": {
      "image/png": "[encoded data removed]",
      "text/plain": [
       "<Figure size 432x288 with 1 Axes>"
      ]
     },
     "metadata": {
      "needs_background": "light"
     },
     "output_type": "display_data"
    },
    {
     "data": {
      "image/png": "[encoded data removed]",
      "text/plain": [
       "<Figure size 432x288 with 1 Axes>"
      ]
     },
     "metadata": {
      "needs_background": "light"
     },
     "output_type": "display_data"
    },
    {
     "data": {
      "image/png": "[encoded data removed]",
      "text/plain": [
       "<Figure size 432x288 with 1 Axes>"
      ]
     },
     "metadata": {
      "needs_background": "light"
     },
     "output_type": "display_data"
    },
    {
     "data": {
      "image/png": "[encoded data removed]",
      "text/plain": [
       "<Figure size 432x288 with 1 Axes>"
      ]
     },
     "metadata": {
      "needs_background": "light"
     },
     "output_type": "display_data"
    },
    {
     "data": {
      "image/png": "[encoded data removed]",
      "text/plain": [
       "<Figure size 432x288 with 1 Axes>"
      ]
     },
     "metadata": {
      "needs_background": "light"
     },
     "output_type": "display_data"
    },
    {
     "data": {
      "image/png": "[encoded data removed]",
      "text/plain": [
       "<Figure size 432x288 with 1 Axes>"
      ]
     },
     "metadata": {
      "needs_background": "light"
     },
     "output_type": "display_data"
    }
   ],
   "source": [
    "entropies = np.transpose(np.array(standardized_sessions_dataset.map(lambda x:x[1][15:30]).collect()))\n",
    "for i in entropies:\n",
    "    plt.figure()\n",
    "    n, bins, patches = plt.hist(i, 30)"
   ]
  },
  {
   "cell_type": "markdown",
   "metadata": {},
   "source": [
    "#### Plot Fi/(1+Ei)"
   ]
  },
  {
   "cell_type": "code",
   "execution_count": 41,
   "metadata": {
    "collapsed": true
   },
   "outputs": [
    {
     "data": {
      "image/png": "[encoded data removed]",
      "text/plain": [
       "<Figure size 432x288 with 1 Axes>"
      ]
     },
     "metadata": {
      "needs_background": "light"
     },
     "output_type": "display_data"
    },
    {
     "data": {
      "image/png": "[encoded data removed]",
      "text/plain": [
       "<Figure size 432x288 with 1 Axes>"
      ]
     },
     "metadata": {
      "needs_background": "light"
     },
     "output_type": "display_data"
    },
    {
     "data": {
      "image/png": "[encoded data removed]",
      "text/plain": [
       "<Figure size 432x288 with 1 Axes>"
      ]
     },
     "metadata": {
      "needs_background": "light"
     },
     "output_type": "display_data"
    },
    {
     "data": {
      "image/png": "[encoded data removed]",
      "text/plain": [
       "<Figure size 432x288 with 1 Axes>"
      ]
     },
     "metadata": {
      "needs_background": "light"
     },
     "output_type": "display_data"
    },
    {
     "data": {
      "image/png": "[encoded data removed]",
      "text/plain": [
       "<Figure size 432x288 with 1 Axes>"
      ]
     },
     "metadata": {
      "needs_background": "light"
     },
     "output_type": "display_data"
    },
    {
     "data": {
      "image/png": "[encoded data removed]",
      "text/plain": [
       "<Figure size 432x288 with 1 Axes>"
      ]
     },
     "metadata": {
      "needs_background": "light"
     },
     "output_type": "display_data"
    },
    {
     "data": {
      "image/png": "[encoded data removed]",
      "text/plain": [
       "<Figure size 432x288 with 1 Axes>"
      ]
     },
     "metadata": {
      "needs_background": "light"
     },
     "output_type": "display_data"
    },
    {
     "data": {
      "image/png": "[encoded data removed]",
      "text/plain": [
       "<Figure size 432x288 with 1 Axes>"
      ]
     },
     "metadata": {
      "needs_background": "light"
     },
     "output_type": "display_data"
    },
    {
     "data": {
      "image/png": "[encoded data removed]",
      "text/plain": [
       "<Figure size 432x288 with 1 Axes>"
      ]
     },
     "metadata": {
      "needs_background": "light"
     },
     "output_type": "display_data"
    },
    {
     "data": {
      "image/png": "[encoded data removed]",
      "text/plain": [
       "<Figure size 432x288 with 1 Axes>"
      ]
     },
     "metadata": {
      "needs_background": "light"
     },
     "output_type": "display_data"
    },
    {
     "data": {
      "image/png": "[encoded data removed]",
      "text/plain": [
       "<Figure size 432x288 with 1 Axes>"
      ]
     },
     "metadata": {
      "needs_background": "light"
     },
     "output_type": "display_data"
    },
    {
     "data": {
      "image/png": "[encoded data removed]",
      "text/plain": [
       "<Figure size 432x288 with 1 Axes>"
      ]
     },
     "metadata": {
      "needs_background": "light"
     },
     "output_type": "display_data"
    },
    {
     "data": {
      "image/png": "[encoded data removed]",
      "text/plain": [
       "<Figure size 432x288 with 1 Axes>"
      ]
     },
     "metadata": {
      "needs_background": "light"
     },
     "output_type": "display_data"
    },
    {
     "data": {
      "image/png": "[encoded data removed]",
      "text/plain": [
       "<Figure size 432x288 with 1 Axes>"
      ]
     },
     "metadata": {
      "needs_background": "light"
     },
     "output_type": "display_data"
    },
    {
     "data": {
      "image/png": "[encoded data removed]",
      "text/plain": [
       "<Figure size 432x288 with 1 Axes>"
      ]
     },
     "metadata": {
      "needs_background": "light"
     },
     "output_type": "display_data"
    }
   ],
   "source": [
    "inv_ent2 = np.transpose(np.array(standardized_sessions_dataset.map(lambda x:x[1][30:]).collect()))\n",
    "for i in inv_ent2:\n",
    "    plt.figure()\n",
    "    n, bins, patches = plt.hist(i, 30)"
   ]
  },
  {
   "cell_type": "markdown",
   "metadata": {},
   "source": [
    "# 2) Feature selection"
   ]
  },
  {
   "cell_type": "markdown",
   "metadata": {},
   "source": [
    "### A) Computation of the variables : X = difference between sessions features, Y = distances between session's purchased items"
   ]
  },
  {
   "cell_type": "markdown",
   "metadata": {},
   "source": [
    "As the output is computed as the euclidian distance between purchased items in the items feature space, we start by modifying items_dataset to replace the 0s by the average of each feature, and normalize the items features (in the previous section the sessions features were normalized)."
   ]
  },
  {
   "cell_type": "code",
   "execution_count": 42,
   "metadata": {},
   "outputs": [],
   "source": [
    "def replace_zeros(vec, means):\n",
    "    for i in range(len(vec)):\n",
    "        if int(vec[i]) == 0:\n",
    "            vec[i] = means[i]\n",
    "    return vec\n"
   ]
  },
  {
   "cell_type": "code",
   "execution_count": 43,
   "metadata": {},
   "outputs": [
    {
     "data": {
      "text/plain": [
       "array([360.18986113, 431.2718754 , 165.29542864, 470.52762652,\n",
       "       386.64796758, 383.93866869, 170.32379385, 341.29834114,\n",
       "       643.19982272, 428.4691233 , 592.38482968, 381.64813642,\n",
       "       260.76666245, 257.04465831, 490.31813769])"
      ]
     },
     "execution_count": 43,
     "metadata": {},
     "output_type": "execute_result"
    }
   ],
   "source": [
    "N_items = items_dataset.count()\n",
    "means = items_dataset.map(lambda x: np.array(x[1])).reduce(lambda x,y: x+y)/N_items\n",
    "broadcasted_means = sc.broadcast(means)\n",
    "means"
   ]
  },
  {
   "cell_type": "code",
   "execution_count": 44,
   "metadata": {
    "collapsed": true
   },
   "outputs": [
    {
     "data": {
      "text/plain": [
       "[(2,\n",
       "  [365,\n",
       "   351,\n",
       "   75,\n",
       "   76,\n",
       "   386.64796758262634,\n",
       "   383.9386686927525,\n",
       "   170.32379384576421,\n",
       "   341.2983411422059,\n",
       "   462,\n",
       "   394,\n",
       "   885,\n",
       "   123,\n",
       "   260.76666244565445,\n",
       "   257.0446583090625,\n",
       "   490.31813768941794]),\n",
       " (3,\n",
       "  [365,\n",
       "   14,\n",
       "   75,\n",
       "   240,\n",
       "   902,\n",
       "   618,\n",
       "   268,\n",
       "   341.2983411422059,\n",
       "   706,\n",
       "   452,\n",
       "   592,\n",
       "   549,\n",
       "   544,\n",
       "   129,\n",
       "   861])]"
      ]
     },
     "execution_count": 44,
     "metadata": {},
     "output_type": "execute_result"
    }
   ],
   "source": [
    "filled_items_dataset = items_dataset.map(lambda x: (x[0], replace_zeros_sess(x[1])))\n",
    "filled_items_dataset.take(2)"
   ]
  },
  {
   "cell_type": "markdown",
   "metadata": {},
   "source": [
    "#### Normalization of the items features"
   ]
  },
  {
   "cell_type": "code",
   "execution_count": 45,
   "metadata": {},
   "outputs": [],
   "source": [
    "items_features_variance = filled_items_dataset.map(lambda x: (square_tuple(add_tuple(x[1],means,-1))))\n",
    "variances = items_features_variance.reduce(lambda x, y: add_tuple(x,y,1)) #computes the sum of the squares of the differences to the mean\n",
    "std_dev = np.sqrt(np.array(variances)/N_items) #divides by the number of sessions to get the variance then takes the square root to take the standard deviation"
   ]
  },
  {
   "cell_type": "code",
   "execution_count": 47,
   "metadata": {
    "collapsed": true
   },
   "outputs": [
    {
     "data": {
      "text/plain": [
       "array([107.43610733, 227.91148168, 204.45134826, 281.97216321,\n",
       "       287.82863653, 218.75871052, 142.14540964, 641.01766821,\n",
       "       153.77588152, 246.17481624, 163.08215278, 262.01936413,\n",
       "       200.0047702 , 192.25041475, 278.4988228 ])"
      ]
     },
     "execution_count": 47,
     "metadata": {},
     "output_type": "execute_result"
    }
   ],
   "source": [
    "std_dev"
   ]
  },
  {
   "cell_type": "code",
   "execution_count": 46,
   "metadata": {},
   "outputs": [],
   "source": [
    "broadcasted_std_dev = sc.broadcast(std_dev)"
   ]
  },
  {
   "cell_type": "code",
   "execution_count": 48,
   "metadata": {
    "collapsed": true
   },
   "outputs": [
    {
     "data": {
      "text/plain": [
       "[(2,\n",
       "  [0.04477208818117561,\n",
       "   -0.35220636891030704,\n",
       "   -0.4416475088716057,\n",
       "   -1.3991722517491725,\n",
       "   0.0,\n",
       "   0.0,\n",
       "   0.0,\n",
       "   0.0,\n",
       "   -1.178337076852414,\n",
       "   -0.14001888504601998,\n",
       "   1.794280767883323,\n",
       "   -0.9871336695984818,\n",
       "   0.0,\n",
       "   0.0,\n",
       "   0.0]),\n",
       " (3,\n",
       "  [0.04477208818117561,\n",
       "   -1.8308506105907774,\n",
       "   -0.4416475088716057,\n",
       "   -0.8175545553965027,\n",
       "   1.7904821376540847,\n",
       "   1.0699520524502326,\n",
       "   0.6871569500827328,\n",
       "   0.0,\n",
       "   0.4083876916384377,\n",
       "   0.09558604354427667,\n",
       "   -0.002359728980751144,\n",
       "   0.6387003652581997,\n",
       "   1.4161329115649675,\n",
       "   -0.6660305959605971,\n",
       "   1.3309997456341864]),\n",
       " (4,\n",
       "  [0.04477208818117561,\n",
       "   -0.2556776647056473,\n",
       "   -0.4416475088716057,\n",
       "   -0.5444779540601883,\n",
       "   1.7904821376540847,\n",
       "   1.0699520524502326,\n",
       "   0.6871569500827328,\n",
       "   0.0,\n",
       "   -1.178337076852414,\n",
       "   1.659515310910901,\n",
       "   -0.3334811857406829,\n",
       "   -0.6245650468018039,\n",
       "   1.4161329115649675,\n",
       "   0.0517832000722921,\n",
       "   1.3309997456341864])]"
      ]
     },
     "execution_count": 48,
     "metadata": {},
     "output_type": "execute_result"
    }
   ],
   "source": [
    "std_items_dataset = filled_items_dataset.map(lambda x: (x[0], standardize(x[1])))\n",
    "std_items_dataset.take(3)"
   ]
  },
  {
   "cell_type": "markdown",
   "metadata": {},
   "source": [
    "#### Creating the list of pairs of sessions"
   ]
  },
  {
   "cell_type": "code",
   "execution_count": 49,
   "metadata": {},
   "outputs": [],
   "source": [
    "def round_to_even(x):\n",
    "    if x%2:\n",
    "        x -= 1\n",
    "    return x"
   ]
  },
  {
   "cell_type": "code",
   "execution_count": 50,
   "metadata": {},
   "outputs": [],
   "source": [
    "def features_diff(x,y):\n",
    "    #we compute the difference between each feature of the pair of sessions\n",
    "    x = np.array(x)\n",
    "    y = np.array(y)\n",
    "    res = abs(x-y)\n",
    "    return res\n",
    "\n",
    "def items_dist(x,y):\n",
    "    #eclidian distance between x and y\n",
    "    return np.linalg.norm(np.array(x) - np.array(y))\n"
   ]
  },
  {
   "cell_type": "code",
   "execution_count": 51,
   "metadata": {
    "collapsed": true
   },
   "outputs": [
    {
     "data": {
      "text/plain": [
       "[(769720,\n",
       "  ([0.03451268926377966,\n",
       "    -0.34785072390272176,\n",
       "    -0.3734307839955331,\n",
       "    -0.5732036543026431,\n",
       "    0.0,\n",
       "    0.367416888644638,\n",
       "    0.0,\n",
       "    2.418087127461209,\n",
       "    -0.9517146751806271,\n",
       "    -0.1323306799150214,\n",
       "    0.9996443630358325,\n",
       "    -0.794098509287743,\n",
       "    0.5963526670851849,\n",
       "    -0.15245280098823324,\n",
       "    0.49218018929525464,\n",
       "    -0.08025459916750374,\n",
       "    -0.2566965611878411,\n",
       "    -0.20040284239920123,\n",
       "    -0.1766442901847516,\n",
       "    -0.20865227161819014,\n",
       "    -0.16833732175679217,\n",
       "    -0.21671659410136565,\n",
       "    -0.16581432873897423,\n",
       "    -0.21392188551743074,\n",
       "    -0.2447456351373295,\n",
       "    -0.2386770361823572,\n",
       "    -0.21909170775254466,\n",
       "    -0.15341343532079338,\n",
       "    -0.20238810043588956,\n",
       "    -0.16596100633967942,\n",
       "    0.04976929378192275,\n",
       "    -0.2992901063614986,\n",
       "    -0.36435196288749594,\n",
       "    -0.5522352074890701,\n",
       "    0.030450979508648165,\n",
       "    0.39690622303057016,\n",
       "    0.030388436870097815,\n",
       "    2.5234133472643236,\n",
       "    -0.825507678982241,\n",
       "    -0.09266285321007116,\n",
       "    1.0234480620279909,\n",
       "    -0.7740477939000667,\n",
       "    0.6129664674479756,\n",
       "    -0.12438307335230904,\n",
       "    0.5175248382932977],\n",
       "   [365,\n",
       "    479,\n",
       "    75,\n",
       "    901,\n",
       "    522,\n",
       "    618,\n",
       "    44,\n",
       "    341.2983411422059,\n",
       "    706,\n",
       "    2,\n",
       "    805,\n",
       "    549,\n",
       "    544,\n",
       "    267,\n",
       "    861])),\n",
       " (819210,\n",
       "  ([0.03451268926377966,\n",
       "    -0.34785072390272176,\n",
       "    -0.3734307839955331,\n",
       "    -0.5732036543026431,\n",
       "    -0.19184611405100965,\n",
       "    0.367416888644638,\n",
       "    0.7019223351368954,\n",
       "    1.7801590349057366,\n",
       "    -0.9517146751806271,\n",
       "    -0.1323306799150214,\n",
       "    0.6628448169960249,\n",
       "    -0.794098509287743,\n",
       "    0.5963526670851849,\n",
       "    -0.15245280098823324,\n",
       "    0.49218018929525464,\n",
       "    -0.08025459916750374,\n",
       "    3.5908817196246505,\n",
       "    -0.20040284239920123,\n",
       "    5.605267096815705,\n",
       "    4.6199582051182295,\n",
       "    -0.16833732175679217,\n",
       "    4.404410216235926,\n",
       "    5.743698858910782,\n",
       "    4.607422783426664,\n",
       "    3.7879662223674617,\n",
       "    3.9336802367527195,\n",
       "    4.31778060848949,\n",
       "    -0.15341343532079338,\n",
       "    -0.20238810043588956,\n",
       "    -0.16596100633967942,\n",
       "    0.04976929378192275,\n",
       "    -1.0505925730397296,\n",
       "    -0.36435196288749594,\n",
       "    -1.084828939519437,\n",
       "    -0.5477168824182471,\n",
       "    0.39690622303057016,\n",
       "    -0.06314254524433423,\n",
       "    0.6925912952225971,\n",
       "    -2.056262557990035,\n",
       "    -0.84615780078578,\n",
       "    -0.9175601117785587,\n",
       "    -1.007266662097186,\n",
       "    0.6129664674479756,\n",
       "    -0.12438307335230904,\n",
       "    0.5175248382932977],\n",
       "   [365,\n",
       "    351,\n",
       "    75,\n",
       "    164,\n",
       "    386.64796758262634,\n",
       "    618,\n",
       "    170.32379384576421,\n",
       "    672,\n",
       "    462,\n",
       "    394,\n",
       "    885,\n",
       "    123,\n",
       "    544,\n",
       "    267,\n",
       "    861]))]"
      ]
     },
     "execution_count": 51,
     "metadata": {},
     "output_type": "execute_result"
    }
   ],
   "source": [
    "# we take standardized_sessions_dataset and join with P_sessions_RDD to get the purchased item for each session\n",
    "purchased_items = P_sessions_RDD.map(lambda x: (x[1][0], x[0]))\n",
    "purchased_items = purchased_items.map(lambda x: (x[1],x[0])).join(filled_items_dataset).map(lambda x: (x[1][0], x[1][1]))\n",
    "sessions_features_with_purchased_items = standardized_sessions_dataset.join(purchased_items)\n",
    "    #sessions_features_with_purchased_items has the structure (sess_id, ([features of the session], [features of the purchased item]))\n",
    "sessions_features_with_purchased_items.take(2)"
   ]
  },
  {
   "cell_type": "code",
   "execution_count": 52,
   "metadata": {
    "collapsed": true
   },
   "outputs": [
    {
     "data": {
      "text/plain": [
       "[(0,\n",
       "  ((769720,\n",
       "    ([0.03451268926377966,\n",
       "      -0.34785072390272176,\n",
       "      -0.3734307839955331,\n",
       "      -0.5732036543026431,\n",
       "      0.0,\n",
       "      0.367416888644638,\n",
       "      0.0,\n",
       "      2.418087127461209,\n",
       "      -0.9517146751806271,\n",
       "      -0.1323306799150214,\n",
       "      0.9996443630358325,\n",
       "      -0.794098509287743,\n",
       "      0.5963526670851849,\n",
       "      -0.15245280098823324,\n",
       "      0.49218018929525464,\n",
       "      -0.08025459916750374,\n",
       "      -0.2566965611878411,\n",
       "      -0.20040284239920123,\n",
       "      -0.1766442901847516,\n",
       "      -0.20865227161819014,\n",
       "      -0.16833732175679217,\n",
       "      -0.21671659410136565,\n",
       "      -0.16581432873897423,\n",
       "      -0.21392188551743074,\n",
       "      -0.2447456351373295,\n",
       "      -0.2386770361823572,\n",
       "      -0.21909170775254466,\n",
       "      -0.15341343532079338,\n",
       "      -0.20238810043588956,\n",
       "      -0.16596100633967942,\n",
       "      0.04976929378192275,\n",
       "      -0.2992901063614986,\n",
       "      -0.36435196288749594,\n",
       "      -0.5522352074890701,\n",
       "      0.030450979508648165,\n",
       "      0.39690622303057016,\n",
       "      0.030388436870097815,\n",
       "      2.5234133472643236,\n",
       "      -0.825507678982241,\n",
       "      -0.09266285321007116,\n",
       "      1.0234480620279909,\n",
       "      -0.7740477939000667,\n",
       "      0.6129664674479756,\n",
       "      -0.12438307335230904,\n",
       "      0.5175248382932977],\n",
       "     [365,\n",
       "      479,\n",
       "      75,\n",
       "      901,\n",
       "      522,\n",
       "      618,\n",
       "      44,\n",
       "      341.2983411422059,\n",
       "      706,\n",
       "      2,\n",
       "      805,\n",
       "      549,\n",
       "      544,\n",
       "      267,\n",
       "      861])),\n",
       "   (819210,\n",
       "    ([0.03451268926377966,\n",
       "      -0.34785072390272176,\n",
       "      -0.3734307839955331,\n",
       "      -0.5732036543026431,\n",
       "      -0.19184611405100965,\n",
       "      0.367416888644638,\n",
       "      0.7019223351368954,\n",
       "      1.7801590349057366,\n",
       "      -0.9517146751806271,\n",
       "      -0.1323306799150214,\n",
       "      0.6628448169960249,\n",
       "      -0.794098509287743,\n",
       "      0.5963526670851849,\n",
       "      -0.15245280098823324,\n",
       "      0.49218018929525464,\n",
       "      -0.08025459916750374,\n",
       "      3.5908817196246505,\n",
       "      -0.20040284239920123,\n",
       "      5.605267096815705,\n",
       "      4.6199582051182295,\n",
       "      -0.16833732175679217,\n",
       "      4.404410216235926,\n",
       "      5.743698858910782,\n",
       "      4.607422783426664,\n",
       "      3.7879662223674617,\n",
       "      3.9336802367527195,\n",
       "      4.31778060848949,\n",
       "      -0.15341343532079338,\n",
       "      -0.20238810043588956,\n",
       "      -0.16596100633967942,\n",
       "      0.04976929378192275,\n",
       "      -1.0505925730397296,\n",
       "      -0.36435196288749594,\n",
       "      -1.084828939519437,\n",
       "      -0.5477168824182471,\n",
       "      0.39690622303057016,\n",
       "      -0.06314254524433423,\n",
       "      0.6925912952225971,\n",
       "      -2.056262557990035,\n",
       "      -0.84615780078578,\n",
       "      -0.9175601117785587,\n",
       "      -1.007266662097186,\n",
       "      0.6129664674479756,\n",
       "      -0.12438307335230904,\n",
       "      0.5175248382932977],\n",
       "     [365,\n",
       "      351,\n",
       "      75,\n",
       "      164,\n",
       "      386.64796758262634,\n",
       "      618,\n",
       "      170.32379384576421,\n",
       "      672,\n",
       "      462,\n",
       "      394,\n",
       "      885,\n",
       "      123,\n",
       "      544,\n",
       "      267,\n",
       "      861])))),\n",
       " (14,\n",
       "  ((365820,\n",
       "    ([0.03451268926377966,\n",
       "      -1.4326415980344978,\n",
       "      -0.3734307839955331,\n",
       "      -0.8617769312314589,\n",
       "      1.442086250941231,\n",
       "      0.367416888644638,\n",
       "      -0.13960885654565877,\n",
       "      0.0,\n",
       "      -0.9517146751806271,\n",
       "      1.4252794389556989,\n",
       "      0.557594958858585,\n",
       "      -1.1247185286378996,\n",
       "      0.5963526670851849,\n",
       "      -0.15245280098823324,\n",
       "      0.49218018929525464,\n",
       "      -0.08025459916750374,\n",
       "      -0.2566965611878411,\n",
       "      -0.20040284239920123,\n",
       "      -0.1766442901847516,\n",
       "      -0.20865227161819014,\n",
       "      -0.16833732175679217,\n",
       "      -0.21671659410136565,\n",
       "      -0.16581432873897423,\n",
       "      -0.21392188551743074,\n",
       "      -0.2447456351373295,\n",
       "      -0.2386770361823572,\n",
       "      -0.21909170775254466,\n",
       "      -0.15341343532079338,\n",
       "      -0.20238810043588956,\n",
       "      -0.16596100633967942,\n",
       "      0.04976929378192275,\n",
       "      -1.3609596889039561,\n",
       "      -0.36435196288749594,\n",
       "      -0.8380172100419498,\n",
       "      1.4902517953984975,\n",
       "      0.39690622303057016,\n",
       "      -0.11123786316822601,\n",
       "      0.02622648278621914,\n",
       "      -0.825507678982241,\n",
       "      1.4525755164375753,\n",
       "      0.6010525008887418,\n",
       "      -1.1039671684228207,\n",
       "      0.6129664674479756,\n",
       "      -0.12438307335230904,\n",
       "      0.5175248382932977],\n",
       "     [365,\n",
       "      351,\n",
       "      263,\n",
       "      240,\n",
       "      902,\n",
       "      618,\n",
       "      126,\n",
       "      341.2983411422059,\n",
       "      898,\n",
       "      452,\n",
       "      780,\n",
       "      36,\n",
       "      544,\n",
       "      401,\n",
       "      861])),\n",
       "   (3989860,\n",
       "    ([0.03451268926377966,\n",
       "      -1.4326415980344978,\n",
       "      -0.3734307839955331,\n",
       "      -0.8617769312314589,\n",
       "      1.442086250941231,\n",
       "      0.367416888644638,\n",
       "      -0.13960885654565877,\n",
       "      0.0,\n",
       "      -0.9517146751806271,\n",
       "      -0.11690879754996478,\n",
       "      -1.623182101749169,\n",
       "      -1.1247185286378996,\n",
       "      0.5963526670851849,\n",
       "      -0.15245280098823324,\n",
       "      0.49218018929525464,\n",
       "      -0.08025459916750374,\n",
       "      3.5908817196246505,\n",
       "      4.786766056105935,\n",
       "      -0.1766442901847516,\n",
       "      -0.20865227161819014,\n",
       "      -0.16833732175679217,\n",
       "      4.404410216235926,\n",
       "      -0.16581432873897423,\n",
       "      4.607422783426664,\n",
       "      3.7879662223674617,\n",
       "      3.9336802367527195,\n",
       "      4.31778060848949,\n",
       "      -0.15341343532079338,\n",
       "      4.738716547416032,\n",
       "      -0.16596100633967942,\n",
       "      0.04976929378192275,\n",
       "      -1.5814273643109582,\n",
       "      -0.554827917382603,\n",
       "      -0.8380172100419498,\n",
       "      1.4902517953984975,\n",
       "      0.39690622303057016,\n",
       "      -0.48998849181887366,\n",
       "      0.02622648278621914,\n",
       "      -2.056262557990035,\n",
       "      -0.8385081058865342,\n",
       "      -2.009754348438617,\n",
       "      -1.172226349358563,\n",
       "      0.6129664674479756,\n",
       "      -0.8434509271510187,\n",
       "      0.5175248382932977],\n",
       "     [365,\n",
       "      351,\n",
       "      263,\n",
       "      240,\n",
       "      101,\n",
       "      618,\n",
       "      113,\n",
       "      341.2983411422059,\n",
       "      706,\n",
       "      78,\n",
       "      780,\n",
       "      36,\n",
       "      544,\n",
       "      267,\n",
       "      861]))))]"
      ]
     },
     "execution_count": 52,
     "metadata": {},
     "output_type": "execute_result"
    }
   ],
   "source": [
    "# we add an index to each session, and modify the indexes to have 2 sessions per index value. \n",
    "#we remove a session to have an even number of sessions\n",
    "indexed_fe_sess = sessions_features_with_purchased_items.zipWithIndex().filter(lambda x: x[1] < N_sessions-N_sessions%2) \\\n",
    "        .map(lambda x: ((round_to_even(x[1]), x[0]))).reduceByKey(lambda x, y: (x,y)) \n",
    "indexed_fe_sess.cache()\n",
    "indexed_fe_sess.take(2)"
   ]
  },
  {
   "cell_type": "markdown",
   "metadata": {},
   "source": [
    "#### Description of indexed_fe_sess : \n",
    "\n",
    "x[0] = (even) index, x[1] = s1 & s2 \n",
    "\n",
    "x[1][0] = s1, x[1][1] = s2\n",
    "\n",
    "x[1][0][0] = s1_id, x[1][0][1] = s1 features & features of the object purchased in s1\n",
    "\n",
    "X[1][0][1][0] =  s1 features, X[1][0][1][1] = features of the object purchased in s1\n",
    "\n",
    "now we do a map to simplify that"
   ]
  },
  {
   "cell_type": "code",
   "execution_count": 53,
   "metadata": {
    "collapsed": true
   },
   "outputs": [
    {
     "data": {
      "text/plain": [
       "[((769720, 819210),\n",
       "  array([0.        , 0.        , 0.        , 0.        , 0.19184611,\n",
       "         0.        , 0.70192234, 0.63792809, 0.        , 0.        ,\n",
       "         0.33679955, 0.        , 0.        , 0.        , 0.        ,\n",
       "         0.        , 3.84757828, 0.        , 5.78191139, 4.82861048,\n",
       "         0.        , 4.62112681, 5.90951319, 4.82134467, 4.03271186,\n",
       "         4.17235727, 4.53687232, 0.        , 0.        , 0.        ,\n",
       "         0.        , 0.75130247, 0.        , 0.53259373, 0.57816786,\n",
       "         0.        , 0.09353098, 1.83082205, 1.23075488, 0.75349495,\n",
       "         1.94100817, 0.23321887, 0.        , 0.        , 0.        ])),\n",
       " ((365820, 3989860),\n",
       "  array([0.        , 0.        , 0.        , 0.        , 0.        ,\n",
       "         0.        , 0.        , 0.        , 0.        , 1.54218824,\n",
       "         2.18077706, 0.        , 0.        , 0.        , 0.        ,\n",
       "         0.        , 3.84757828, 4.9871689 , 0.        , 0.        ,\n",
       "         0.        , 4.62112681, 0.        , 4.82134467, 4.03271186,\n",
       "         4.17235727, 4.53687232, 0.        , 4.94110465, 0.        ,\n",
       "         0.        , 0.22046768, 0.19047595, 0.        , 0.        ,\n",
       "         0.        , 0.37875063, 0.        , 1.23075488, 2.29108362,\n",
       "         2.61080685, 0.06825918, 0.        , 0.71906785, 0.        ])),\n",
       " ((2137170, 2950430),\n",
       "  array([0.        , 2.54575923, 2.27115959, 2.16757882, 1.45886818,\n",
       "         0.        , 0.84153119, 2.59972952, 0.        , 2.37882535,\n",
       "         0.22733969, 0.33062002, 0.        , 2.95387758, 0.        ,\n",
       "         0.        , 6.09826729, 4.57969642, 5.30950514, 4.43409289,\n",
       "         5.51284064, 4.2435615 , 5.42668134, 0.        , 6.39169707,\n",
       "         6.61302982, 7.19077249, 6.11679844, 7.83146558, 5.60451122,\n",
       "         0.        , 0.70923405, 0.54939753, 0.7459161 , 0.31739957,\n",
       "         1.20804979, 0.08240733, 1.15749837, 0.        , 0.72931107,\n",
       "         1.54425077, 0.04392439, 0.18913294, 3.36155328, 1.27936839]))]"
      ]
     },
     "execution_count": 53,
     "metadata": {},
     "output_type": "execute_result"
    }
   ],
   "source": [
    "sessions_pairs_features = indexed_fe_sess.map(lambda x: ((x[1][0][0], x[1][1][0]), (x[1][0][1][0],x[1][1][1][0])))\n",
    "#computation of features differences\n",
    "sessions_pairs_differences = sessions_pairs_features.map(lambda x: (x[0], features_diff(x[1][0], x[1][1])))\n",
    "#computation of the distance between purchased items\n",
    "purchased_items_distances = indexed_fe_sess.map(lambda x: ((x[1][0][0], x[1][1][0]), items_dist(x[1][0][1][1] , x[1][1][1][1] )))\n",
    "indexed_fe_sess.unpersist()\n",
    "sessions_pairs_differences.take(3)"
   ]
  },
  {
   "cell_type": "markdown",
   "metadata": {},
   "source": [
    "#### Plot differences between sessions features "
   ]
  },
  {
   "cell_type": "code",
   "execution_count": 54,
   "metadata": {
    "collapsed": true
   },
   "outputs": [
    {
     "data": {
      "image/png": "[encoded data removed]",
      "text/plain": [
       "<Figure size 432x288 with 1 Axes>"
      ]
     },
     "metadata": {
      "needs_background": "light"
     },
     "output_type": "display_data"
    },
    {
     "data": {
      "image/png": "[encoded data removed]",
      "text/plain": [
       "<Figure size 432x288 with 1 Axes>"
      ]
     },
     "metadata": {
      "needs_background": "light"
     },
     "output_type": "display_data"
    },
    {
     "data": {
      "image/png": "[encoded data removed]",
      "text/plain": [
       "<Figure size 432x288 with 1 Axes>"
      ]
     },
     "metadata": {
      "needs_background": "light"
     },
     "output_type": "display_data"
    },
    {
     "data": {
      "image/png": "[encoded data removed]",
      "text/plain": [
       "<Figure size 432x288 with 1 Axes>"
      ]
     },
     "metadata": {
      "needs_background": "light"
     },
     "output_type": "display_data"
    },
    {
     "data": {
      "image/png": "[encoded data removed]",
      "text/plain": [
       "<Figure size 432x288 with 1 Axes>"
      ]
     },
     "metadata": {
      "needs_background": "light"
     },
     "output_type": "display_data"
    },
    {
     "data": {
      "image/png": "[encoded data removed]",
      "text/plain": [
       "<Figure size 432x288 with 1 Axes>"
      ]
     },
     "metadata": {
      "needs_background": "light"
     },
     "output_type": "display_data"
    },
    {
     "data": {
      "image/png": "[encoded data removed]",
      "text/plain": [
       "<Figure size 432x288 with 1 Axes>"
      ]
     },
     "metadata": {
      "needs_background": "light"
     },
     "output_type": "display_data"
    },
    {
     "data": {
      "image/png": "[encoded data removed]",
      "text/plain": [
       "<Figure size 432x288 with 1 Axes>"
      ]
     },
     "metadata": {
      "needs_background": "light"
     },
     "output_type": "display_data"
    },
    {
     "data": {
      "image/png": "[encoded data removed]",
      "text/plain": [
       "<Figure size 432x288 with 1 Axes>"
      ]
     },
     "metadata": {
      "needs_background": "light"
     },
     "output_type": "display_data"
    },
    {
     "data": {
      "image/png": "[encoded data removed]",
      "text/plain": [
       "<Figure size 432x288 with 1 Axes>"
      ]
     },
     "metadata": {
      "needs_background": "light"
     },
     "output_type": "display_data"
    },
    {
     "data": {
      "image/png": "[encoded data removed]",
      "text/plain": [
       "<Figure size 432x288 with 1 Axes>"
      ]
     },
     "metadata": {
      "needs_background": "light"
     },
     "output_type": "display_data"
    },
    {
     "data": {
      "image/png": "[encoded data removed]",
      "text/plain": [
       "<Figure size 432x288 with 1 Axes>"
      ]
     },
     "metadata": {
      "needs_background": "light"
     },
     "output_type": "display_data"
    },
    {
     "data": {
      "image/png": "[encoded data removed]",
      "text/plain": [
       "<Figure size 432x288 with 1 Axes>"
      ]
     },
     "metadata": {
      "needs_background": "light"
     },
     "output_type": "display_data"
    },
    {
     "data": {
      "image/png": "[encoded data removed]",
      "text/plain": [
       "<Figure size 432x288 with 1 Axes>"
      ]
     },
     "metadata": {
      "needs_background": "light"
     },
     "output_type": "display_data"
    },
    {
     "data": {
      "image/png": "[encoded data removed]",
      "text/plain": [
       "<Figure size 432x288 with 1 Axes>"
      ]
     },
     "metadata": {
      "needs_background": "light"
     },
     "output_type": "display_data"
    },
    {
     "data": {
      "image/png": "[encoded data removed]",
      "text/plain": [
       "<Figure size 432x288 with 1 Axes>"
      ]
     },
     "metadata": {
      "needs_background": "light"
     },
     "output_type": "display_data"
    }
   ],
   "source": [
    "dist_RDD = sessions_pairs_differences.map(lambda x: x[1][:31:2])\n",
    "distances = np.transpose(np.array(dist_RDD.collect()))\n",
    "dist_means = []\n",
    "dist_var = []\n",
    "for i in distances:\n",
    "    dist_means.append(np.mean(i))\n",
    "    dist_var.append(np.var(i))\n",
    "    plt.figure()\n",
    "    n, bins, patches = plt.hist(i, 30)\n",
    "dist_sig = np.sqrt(np.array(dist_var))"
   ]
  },
  {
   "cell_type": "markdown",
   "metadata": {},
   "source": [
    "### B) Shaping the X and Y arrays for feature selection (and making sure the line order corresponds in both RDD)"
   ]
  },
  {
   "cell_type": "markdown",
   "metadata": {},
   "source": [
    "#### Joining the sessions_pairs_differences and purchased_items_distance to make  sure that the lines of each RDD match correctly"
   ]
  },
  {
   "cell_type": "code",
   "execution_count": 55,
   "metadata": {
    "collapsed": true
   },
   "outputs": [
    {
     "data": {
      "text/plain": [
       "[((2248680, 788690),\n",
       "  ((array([0.        , 0.        , 0.58170012, 0.25250162, 0.62598707,\n",
       "           0.        , 1.32748582, 1.18727826, 0.        , 0.32385953,\n",
       "           0.        , 1.94951805, 0.        , 0.        , 0.        ,\n",
       "           0.        , 0.        , 0.        , 0.        , 0.        ,\n",
       "           0.        , 0.        , 0.        , 0.        , 0.        ,\n",
       "           0.        , 0.        , 0.        , 0.        , 0.        ,\n",
       "           0.        , 0.        , 0.58412626, 0.25005925, 0.63367669,\n",
       "           0.        , 1.3466689 , 1.22611614, 0.        , 0.32128719,\n",
       "           0.        , 1.94538666, 0.        , 0.        , 0.        ]),),\n",
       "   (667.8299748120544,))),\n",
       " ((2332610, 2209480),\n",
       "  ((array([0.        , 0.78734822, 3.40421025, 1.9150772 , 1.00794529,\n",
       "           0.        , 2.88609641, 0.        , 1.3898594 , 2.0588213 ,\n",
       "           0.10524986, 0.        , 0.        , 0.        , 0.82081761,\n",
       "           0.        , 3.84757828, 0.        , 0.        , 0.        ,\n",
       "           6.00333839, 0.        , 0.        , 4.82134467, 0.        ,\n",
       "           0.        , 0.        , 0.        , 0.        , 6.10316525,\n",
       "           0.        , 1.5218691 , 3.41840846, 1.89655329, 1.02032687,\n",
       "           1.26179211, 2.92780248, 0.        , 2.53077302, 2.04246854,\n",
       "           0.10057037, 0.        , 0.        , 0.        , 1.74291093]),),\n",
       "   (1160.7200351505955,))),\n",
       " ((2019080, 3769150),\n",
       "  ((array([0.        , 1.60094137, 0.        , 0.        , 1.63393236,\n",
       "           0.        , 0.        , 0.        , 1.3898594 , 0.15036335,\n",
       "           0.89672879, 0.53583245, 0.        , 0.        , 0.        ,\n",
       "           0.        , 0.        , 0.        , 0.        , 0.        ,\n",
       "           0.        , 0.        , 0.        , 0.        , 0.        ,\n",
       "           0.        , 0.        , 0.        , 0.        , 0.        ,\n",
       "           0.        , 1.56681882, 0.        , 0.        , 1.65400356,\n",
       "           0.        , 0.        , 0.        , 1.30001814, 0.14916905,\n",
       "           0.85685957, 0.53469692, 0.        , 0.        , 0.        ]),),\n",
       "   (987.1860897281977,)))]"
      ]
     },
     "execution_count": 55,
     "metadata": {},
     "output_type": "execute_result"
    }
   ],
   "source": [
    "X_and_Y = sessions_pairs_differences.join(purchased_items_distances).map(lambda x:(x[0], (x[1][:-1], x[1][-1:])))\n",
    "X_and_Y.take(3)"
   ]
  },
  {
   "cell_type": "code",
   "execution_count": 56,
   "metadata": {
    "collapsed": true
   },
   "outputs": [
    {
     "name": "stdout",
     "output_type": "stream",
     "text": [
      "x : (array([0.        , 0.        , 0.58170012, 0.25250162, 0.62598707,\n",
      "       0.        , 1.32748582, 1.18727826, 0.        , 0.32385953,\n",
      "       0.        , 1.94951805, 0.        , 0.        , 0.        ,\n",
      "       0.        , 0.        , 0.        , 0.        , 0.        ,\n",
      "       0.        , 0.        , 0.        , 0.        , 0.        ,\n",
      "       0.        , 0.        , 0.        , 0.        , 0.        ,\n",
      "       0.        , 0.        , 0.58412626, 0.25005925, 0.63367669,\n",
      "       0.        , 1.3466689 , 1.22611614, 0.        , 0.32128719,\n",
      "       0.        , 1.94538666, 0.        , 0.        , 0.        ]),)\n",
      "y : 667.8299748120544\n",
      "x : (array([0.        , 0.78734822, 3.40421025, 1.9150772 , 1.00794529,\n",
      "       0.        , 2.88609641, 0.        , 1.3898594 , 2.0588213 ,\n",
      "       0.10524986, 0.        , 0.        , 0.        , 0.82081761,\n",
      "       0.        , 3.84757828, 0.        , 0.        , 0.        ,\n",
      "       6.00333839, 0.        , 0.        , 4.82134467, 0.        ,\n",
      "       0.        , 0.        , 0.        , 0.        , 6.10316525,\n",
      "       0.        , 1.5218691 , 3.41840846, 1.89655329, 1.02032687,\n",
      "       1.26179211, 2.92780248, 0.        , 2.53077302, 2.04246854,\n",
      "       0.10057037, 0.        , 0.        , 0.        , 1.74291093]),)\n",
      "y : 1160.7200351505955\n",
      "x : (array([0.        , 1.60094137, 0.        , 0.        , 1.63393236,\n",
      "       0.        , 0.        , 0.        , 1.3898594 , 0.15036335,\n",
      "       0.89672879, 0.53583245, 0.        , 0.        , 0.        ,\n",
      "       0.        , 0.        , 0.        , 0.        , 0.        ,\n",
      "       0.        , 0.        , 0.        , 0.        , 0.        ,\n",
      "       0.        , 0.        , 0.        , 0.        , 0.        ,\n",
      "       0.        , 1.56681882, 0.        , 0.        , 1.65400356,\n",
      "       0.        , 0.        , 0.        , 1.30001814, 0.14916905,\n",
      "       0.85685957, 0.53469692, 0.        , 0.        , 0.        ]),)\n",
      "y : 987.1860897281977\n",
      "x : (array([0.        , 0.18371458, 3.74817206, 1.9150772 , 0.19184611,\n",
      "       0.36741689, 0.70192234, 0.20495618, 1.3898594 , 1.73496177,\n",
      "       0.89672879, 1.72150424, 0.59635267, 0.82855975, 0.49218019,\n",
      "       0.        , 0.        , 0.        , 0.        , 0.        ,\n",
      "       0.        , 0.        , 0.        , 0.        , 0.        ,\n",
      "       0.        , 0.        , 0.        , 0.        , 0.        ,\n",
      "       0.        , 0.17979888, 3.76380486, 1.89655329, 0.19420275,\n",
      "       0.36402745, 0.71206559, 0.21166065, 1.30001814, 1.72118135,\n",
      "       0.85685957, 1.71785605, 0.59492017, 0.8234106 , 0.48764546]),)\n",
      "y : 1887.6600567802923\n",
      "x : (array([0.        , 0.09623145, 0.        , 0.25250162, 0.        ,\n",
      "       1.96182952, 0.84153119, 0.        , 1.3898594 , 1.95857906,\n",
      "       1.28825826, 1.25787617, 0.        , 0.        , 0.14098012,\n",
      "       0.        , 3.84757828, 0.        , 5.78191139, 4.82861048,\n",
      "       6.00333839, 4.62112681, 0.        , 4.82134467, 4.03271186,\n",
      "       4.17235727, 4.53687232, 0.        , 0.        , 0.        ,\n",
      "       0.        , 0.70421228, 0.        , 0.63976198, 1.2109669 ,\n",
      "       3.10956212, 0.04809532, 0.        , 2.53077302, 1.99657037,\n",
      "       2.23467366, 1.66855776, 0.        , 0.        , 0.1396812 ]),)\n",
      "y : 795.6235681946048\n"
     ]
    }
   ],
   "source": [
    "X = X_and_Y.map(lambda x: x[1][0])\n",
    "Y = X_and_Y.map(lambda x: x[1][1]).map(lambda x: x[0])\n",
    "\n",
    "testx = X.take(5)\n",
    "testy = Y.take(5)\n",
    "\n",
    "for i in range(len(testx)):\n",
    "    print('x : ' + str(testx[i]))\n",
    "    print('y : ' + str(testy[i]))\n",
    "selected_x = X\n",
    "\n",
    "y = Y.collect()"
   ]
  },
  {
   "cell_type": "code",
   "execution_count": 57,
   "metadata": {},
   "outputs": [],
   "source": [
    "#in the feature selection algorithms the computation of the scores of the features is done in parallel, \n",
    "#so it is more interesting to have each feature be a line of the rdd\n",
    "X_matrix = np.transpose(np.array(selected_x.collect()))\n",
    "X_t = sc.parallelize(X_matrix).map(lambda x: x[0])"
   ]
  },
  {
   "cell_type": "markdown",
   "metadata": {},
   "source": [
    "## C) Feature selection algorithms : Mrmr and forward feature selection"
   ]
  },
  {
   "cell_type": "code",
   "execution_count": 58,
   "metadata": {},
   "outputs": [],
   "source": [
    "from sklearn.linear_model import LinearRegression\n",
    "from sklearn.model_selection import cross_val_score\n"
   ]
  },
  {
   "cell_type": "code",
   "execution_count": 59,
   "metadata": {},
   "outputs": [],
   "source": [
    "def get_score(X,y):\n",
    "    #function used in the mrmr algorithm to compute how well a linear regression model, using as input one feature (the array X), can predict the output (y)\n",
    "    #the score is computed as the mean of the scores of a 3 fold crossvalidation\n",
    "    model = LinearRegression()\n",
    "    x = np.array(X).reshape(-1, 1)\n",
    "    scores = cross_val_score(model, x, y, cv=3)  \n",
    "    return scores.mean()"
   ]
  },
  {
   "cell_type": "code",
   "execution_count": 60,
   "metadata": {},
   "outputs": [],
   "source": [
    "def get_corr(x,y):\n",
    "    # computes the pearson correlation of to arrays x and y\n",
    "    score = np.abs(scipy.stats.pearsonr(x, y)[0])\n",
    "    \n",
    "    return score"
   ]
  },
  {
   "cell_type": "code",
   "execution_count": 61,
   "metadata": {},
   "outputs": [],
   "source": [
    "def get_mrmr_score_spark(x):\n",
    "    \n",
    "    #given a feature x, the function computes the score of x as a difference between its \"relevency\" score and \n",
    "    #\"redundancy\" score\n",
    "\n",
    "    # Retrieve content of broadcasted values\n",
    "    y = broadcast_y.value\n",
    "    selected_features_values = broadcast_selected_features_values.value\n",
    "    \n",
    "    # Get correlation score between feature x and output y (relevance)\n",
    "    \n",
    "    score_x_y_s = get_score(x,y)\n",
    "    #print('score x-y : ' + str(score_x_y_s))\n",
    "    \n",
    "    n_selected_features = selected_features_values.shape[0]\n",
    "    \n",
    "    # If some features have already been selected\n",
    "    if n_selected_features>0:\n",
    "        \n",
    "        # Get corrrelation scores between x and each feature already selected (redundancy)\n",
    "        score_features_x_s = np.zeros(n_selected_features, dtype=float)\n",
    "        \n",
    "        for j in range(n_selected_features):\n",
    "            score_x_s_j = get_corr(x, selected_features_values[j,:])\n",
    "            #print(score_x_s_j )\n",
    "                \n",
    "            score_features_x_s[j] = score_x_s_j\n",
    "                \n",
    "        # Final score is relevance to output feature - average redundancy with already selected features\n",
    "        score_x_y_s = score_x_y_s - np.mean(score_features_x_s)\n",
    "        \n",
    "    return score_x_y_s"
   ]
  },
  {
   "cell_type": "code",
   "execution_count": 62,
   "metadata": {},
   "outputs": [],
   "source": [
    "def ffs_score_spark(x):\n",
    "    #given a candidate feature x, the function computes the score for the forward selection algorithm : \n",
    "    #the score is the mean of the crossvalidation scores of a linear regression model trained on the union of the candidate \n",
    "    #feature and the already selected features\n",
    "    \n",
    "    # Retrieve content of broadcasted values\n",
    "    y = broadcast_y.value\n",
    "    selected_features_values = broadcast_selected_features_values.value   \n",
    "    all_features = list(list(item) for item in selected_features_values)\n",
    "    #the candidate feature is added to the list of selected features\n",
    "    all_features.append(x)\n",
    "    #the model needs a dataset where features are columns and observations (sessions) are lines\n",
    "    X = np.transpose(np.array(all_features))\n",
    "    model = LinearRegression()\n",
    "    scores = cross_val_score(model, X, y, cv=3)\n",
    "    return(scores.mean())    \n"
   ]
  },
  {
   "cell_type": "code",
   "execution_count": 65,
   "metadata": {
    "collapsed": true
   },
   "outputs": [
    {
     "name": "stdout",
     "output_type": "stream",
     "text": [
      "Step: 0\n",
      "Step: 1\n",
      "Step: 2\n",
      "Step: 3\n",
      "Step: 4\n",
      "Step: 5\n",
      "Step: 6\n",
      "Step: 7\n",
      "Step: 8\n",
      "Step: 9\n",
      "features scores : [0.09883253917665509, 0.116161524324553, 0.12233614367252547, 0.12751950725210784, 0.13224600545520226, 0.13529431817639437, 0.13738588041942948, 0.13890938586790372, 0.13983057784244135, 0.14075869631700613]\n"
     ]
    }
   ],
   "source": [
    "n_features = 45\n",
    "K = 10 #number of selected features\n",
    "\n",
    "remaining_features_indices = list(range(n_features))\n",
    "selected_features_indices = []\n",
    "broadcast_y = sc.broadcast(y)\n",
    "features_scores = []\n",
    "choose_mrmr = False #if true, the mrmr algorithm is used for feature selection, if false the forward feature selection is computed\n",
    "if choose_mrmr:\n",
    "    get_feature_score = get_mrmr_score_spark\n",
    "else:\n",
    "    get_feature_score = ffs_score_spark\n",
    "    \n",
    "for k in range(K):\n",
    "    print(\"Step: \"+str(k))\n",
    "\n",
    "    # Get the subset of selected features values, and cast as an array\n",
    "    selected_features_values = X_t.zipWithIndex().filter(lambda x: x[1] in selected_features_indices).map(lambda x: x[0]).collect()\n",
    "    selected_features_values = np.array(selected_features_values)\n",
    "\n",
    "    # Broadcast selected_features_values \n",
    "    broadcast_selected_features_values = sc.broadcast(selected_features_values)\n",
    "    # mRMR scores are computed by first filtering `X_t` to remove already selected features, and then mapping \n",
    "    # each remaining feature using the `get_mrmr_score_spark` function\n",
    "    \n",
    "    scores = X_t.zipWithIndex().filter(lambda x: x[1] in remaining_features_indices).map(lambda x:get_feature_score(x[0])).collect()\n",
    "\n",
    "    scores = np.array(scores)\n",
    "    #at each iteration, the feature with the highest score is added to the selected features (and remove from the remaining ones)\n",
    "    index_max_score_features = np.argmax(scores)\n",
    "    max_score = scores[index_max_score_features]\n",
    "    features_scores.append(max_score)\n",
    "\n",
    "    selected_features_indices.append(remaining_features_indices[index_max_score_features])\n",
    "\n",
    "    del(remaining_features_indices[index_max_score_features])\n",
    "\n",
    "print('features scores : ' + str(features_scores))"
   ]
  },
  {
   "cell_type": "code",
   "execution_count": 64,
   "metadata": {},
   "outputs": [
    {
     "data": {
      "text/plain": [
       "[7, 15, 13, 8, 5, 1, 18, 3, 0, 10]"
      ]
     },
     "execution_count": 64,
     "metadata": {},
     "output_type": "execute_result"
    }
   ],
   "source": [
    "mrmr_features = selected_features_indices\n",
    "mrmr_features"
   ]
  },
  {
   "cell_type": "code",
   "execution_count": 66,
   "metadata": {},
   "outputs": [
    {
     "data": {
      "text/plain": [
       "[7, 33, 34, 14, 42, 2, 11, 9, 37, 0]"
      ]
     },
     "execution_count": 66,
     "metadata": {},
     "output_type": "execute_result"
    }
   ],
   "source": [
    "ffs_features = selected_features_indices\n",
    "ffs_features"
   ]
  },
  {
   "cell_type": "markdown",
   "metadata": {},
   "source": [
    "# 3) Item purchase prediction model"
   ]
  },
  {
   "cell_type": "code",
   "execution_count": 67,
   "metadata": {},
   "outputs": [],
   "source": [
    "from pyspark.ml.linalg import Vectors\n",
    "from pyspark.sql.functions import col\n",
    "from pyspark.ml.feature import BucketedRandomProjectionLSH\n",
    "import time"
   ]
  },
  {
   "cell_type": "markdown",
   "metadata": {},
   "source": [
    "#### Creating the table of all the sessions each items appears in"
   ]
  },
  {
   "cell_type": "code",
   "execution_count": 68,
   "metadata": {},
   "outputs": [],
   "source": [
    "items_list = items_dataset.map(lambda x:(x[0])) #get all the item ids\n",
    "sessions_list = sessions_dataset.map(lambda x: (x[0], [item[0] for item in x[1]])) # (session_id, [list of item ids in session])\n",
    "flat_sessions_list = sessions_list.flatMap(lambda x:[(item, [x[0]]) for item in x[1]]) # [(item id1, session id1), (item id, session id2)...]\n",
    "items_sess_table = flat_sessions_list.reduceByKey(lambda x,y: x+y) # reduce by key (with key = item id), to get (item id, [list of session ids with item])\n",
    "items_sess_table.cache()\n",
    "items_sess_table.take(2)\n",
    "items_sess_table_list = items_sess_table.collect()"
   ]
  },
  {
   "cell_type": "markdown",
   "metadata": {},
   "source": [
    "#### Set train and test data"
   ]
  },
  {
   "cell_type": "code",
   "execution_count": 69,
   "metadata": {},
   "outputs": [],
   "source": [
    "def select_index(x):\n",
    "    #function used to select the features by using the list of indices computed during the feature selection section\n",
    "    index_list = broadcasted_index.value\n",
    "    res = []\n",
    "    for i in index_list:\n",
    "        res.append(x[i])\n",
    "    return res"
   ]
  },
  {
   "cell_type": "code",
   "execution_count": 118,
   "metadata": {},
   "outputs": [
    {
     "data": {
      "text/plain": [
       "[0, 2, 7, 9, 11, 14, 33, 34, 37, 42]"
      ]
     },
     "execution_count": 118,
     "metadata": {},
     "output_type": "execute_result"
    }
   ],
   "source": [
    "mrmr_features.sort()\n",
    "ffs_features.sort()\n",
    "ffs_features"
   ]
  },
  {
   "cell_type": "code",
   "execution_count": 119,
   "metadata": {},
   "outputs": [],
   "source": [
    "features = ffs_features"
   ]
  },
  {
   "cell_type": "code",
   "execution_count": 120,
   "metadata": {},
   "outputs": [],
   "source": [
    "broadcasted_index = sc.broadcast(features)\n",
    "dataset = standardized_sessions_dataset.map(lambda x: (x[0], select_index(x[1]))) # we use only the selected features\n",
    "train_data = spark.createDataFrame(dataset.map(lambda x: (x[0], Vectors.dense(x[1]))), ['id', 'features']) \n",
    "\n",
    "test_dataset = test_standardized_sessions_dataset.map(lambda x: (x[0], select_index(x[1])))\n",
    "test_data = spark.createDataFrame(test_dataset.map(lambda x: (x[0], Vectors.dense(x[1]))), ['id', 'features'])"
   ]
  },
  {
   "cell_type": "code",
   "execution_count": 121,
   "metadata": {},
   "outputs": [],
   "source": [
    "reduced_test_data = test_data.sample(False, 0.055)"
   ]
  },
  {
   "cell_type": "code",
   "execution_count": 91,
   "metadata": {
    "collapsed": true
   },
   "outputs": [
    {
     "name": "stdout",
     "output_type": "stream",
     "text": [
      "+-------+--------------------+\n",
      "|     id|            features|\n",
      "+-------+--------------------+\n",
      "| 910430|[0.04364460273238...|\n",
      "|2507050|[0.04364460273238...|\n",
      "|1735940|[0.04364460273238...|\n",
      "| 793940|[0.04364460273238...|\n",
      "|4363850|[0.04364460273238...|\n",
      "| 874760|[0.04364460273238...|\n",
      "|1541550|[0.04364460273238...|\n",
      "|1426700|[0.04364460273238...|\n",
      "| 280190|[0.04364460273238...|\n",
      "|  40120|[0.04364460273238...|\n",
      "|2604290|[0.04364460273238...|\n",
      "|1439900|[0.04364460273238...|\n",
      "| 147370|[0.04364460273238...|\n",
      "|1938510|[0.04364460273238...|\n",
      "|1536640|[0.04364460273238...|\n",
      "|1162560|[0.04364460273238...|\n",
      "|2156770|[0.04364460273238...|\n",
      "| 736380|[0.04364460273238...|\n",
      "|2193560|[0.04364460273238...|\n",
      "| 443800|[0.04364460273238...|\n",
      "+-------+--------------------+\n",
      "only showing top 20 rows\n",
      "\n"
     ]
    }
   ],
   "source": [
    "reduced_test_data.show()"
   ]
  },
  {
   "cell_type": "code",
   "execution_count": 82,
   "metadata": {},
   "outputs": [
    {
     "data": {
      "text/plain": [
       "PythonRDD[94] at RDD at PythonRDD.scala:53"
      ]
     },
     "execution_count": 82,
     "metadata": {},
     "output_type": "execute_result"
    }
   ],
   "source": [
    "standardized_sessions_dataset.unpersist()"
   ]
  },
  {
   "cell_type": "code",
   "execution_count": 122,
   "metadata": {},
   "outputs": [
    {
     "data": {
      "text/plain": [
       "[(1344, 10061), (2100, 13403), (6156, 20629)]"
      ]
     },
     "execution_count": 122,
     "metadata": {},
     "output_type": "execute_result"
    }
   ],
   "source": [
    "#computation of the truth table (the rdd with key=session id from test_data, value=item_id of the purchased item)\n",
    "test_truth_table = P_sessions_RDD.map(lambda x: (x[1][0], x[0])).join(test_data.rdd.map(lambda x: (x[0], x[1]))).map(lambda x: (x[0], x[1][0]))\n",
    "test_truth_table.take(3)"
   ]
  },
  {
   "cell_type": "code",
   "execution_count": 123,
   "metadata": {},
   "outputs": [],
   "source": [
    "N_test_sessions = reduced_test_data.count()"
   ]
  },
  {
   "cell_type": "code",
   "execution_count": 124,
   "metadata": {},
   "outputs": [
    {
     "name": "stdout",
     "output_type": "stream",
     "text": [
      "train dataset size : 92044\n",
      "test dataset size : 1099\n"
     ]
    }
   ],
   "source": [
    "print('train dataset size : ' + str(train_data.count()))\n",
    "print('test dataset size : ' + str(N_test_sessions))"
   ]
  },
  {
   "cell_type": "markdown",
   "metadata": {},
   "source": [
    "#### KNN model using bucketed random projection LSH"
   ]
  },
  {
   "cell_type": "code",
   "execution_count": 125,
   "metadata": {},
   "outputs": [],
   "source": [
    "#set model\n",
    "brp = BucketedRandomProjectionLSH(inputCol=\"features\", outputCol=\"hashes\", seed=12345, bucketLength=50.0)\n",
    "#fit model\n",
    "model = brp.fit(train_data)"
   ]
  },
  {
   "cell_type": "markdown",
   "metadata": {},
   "source": [
    "#### Compute item scores for each session"
   ]
  },
  {
   "cell_type": "code",
   "execution_count": 134,
   "metadata": {},
   "outputs": [],
   "source": [
    "def compute_1_item_score(item_sess):\n",
    "    #function that takes as input the sessions in which an item appears in, and which computes the score associated with the purchase of the item,\n",
    "    # using the broadcasted array with the neighbors of the session of interest, and their similarity to the session\n",
    "    neighbors = broadcasted_neighbors.value\n",
    "    filtered_neighbors = filter(lambda x: x[0] in item_sess, neighbors)\n",
    "    relevent_neighbors_sim = []\n",
    "    for n in filtered_neighbors:\n",
    "        relevent_neighbors_sim.append(n[1])\n",
    "    score = sum(relevent_neighbors_sim)\n",
    "    return score   "
   ]
  },
  {
   "cell_type": "code",
   "execution_count": 126,
   "metadata": {},
   "outputs": [],
   "source": [
    "test_sessions = reduced_test_data.rdd.map(lambda x: (x[0], x[1])).collect()\n",
    "#test_sessions "
   ]
  },
  {
   "cell_type": "code",
   "execution_count": 128,
   "metadata": {},
   "outputs": [
    {
     "data": {
      "text/plain": [
       "1099"
      ]
     },
     "execution_count": 128,
     "metadata": {},
     "output_type": "execute_result"
    }
   ],
   "source": [
    "len(test_sessions)"
   ]
  },
  {
   "cell_type": "code",
   "execution_count": 142,
   "metadata": {
    "collapsed": true
   },
   "outputs": [
    {
     "name": "stdout",
     "output_type": "stream",
     "text": [
      "1 : 2073930\n",
      "2 : 1429550\n",
      "3 : 3153640\n",
      "4 : 147490\n",
      "5 : 4158190\n",
      "6 : 2726550\n",
      "7 : 1269630\n",
      "8 : 4286580\n",
      "9 : 138980\n",
      "10 : 3643750\n",
      "11 : 4076420\n",
      "12 : 908150\n",
      "13 : 4369910\n",
      "14 : 4108310\n",
      "15 : 817290\n",
      "16 : 190260\n",
      "17 : 1416780\n",
      "18 : 1917850\n",
      "19 : 1320660\n",
      "20 : 2438360\n",
      "21 : 475390\n",
      "22 : 2278340\n",
      "23 : 4270\n",
      "24 : 3259380\n",
      "25 : 443800\n",
      "26 : 3053940\n",
      "27 : 234190\n",
      "28 : 3111630\n",
      "29 : 2178700\n",
      "30 : 1972500\n",
      "31 : 816580\n",
      "32 : 415430\n",
      "33 : 3940610\n",
      "34 : 3458180\n",
      "35 : 2209040\n",
      "36 : 3899360\n",
      "37 : 518020\n",
      "38 : 2159480\n",
      "39 : 1249160\n",
      "40 : 2851500\n",
      "41 : 1506160\n",
      "42 : 1506520\n",
      "43 : 3811270\n",
      "44 : 4026680\n",
      "45 : 4019950\n",
      "46 : 3270020\n",
      "47 : 3101710\n",
      "48 : 1748860\n",
      "49 : 1862390\n",
      "50 : 3825270\n",
      "51 : 2136260\n",
      "52 : 3432580\n",
      "53 : 1839130\n",
      "54 : 3573270\n",
      "55 : 2061100\n",
      "56 : 3667080\n",
      "57 : 2626100\n",
      "58 : 4267350\n",
      "59 : 2752230\n",
      "60 : 2947260\n",
      "61 : 4163640\n",
      "62 : 2245470\n",
      "63 : 3913780\n",
      "64 : 4000920\n",
      "65 : 2050040\n",
      "66 : 1255530\n",
      "67 : 2586350\n",
      "68 : 2803740\n",
      "69 : 1794980\n",
      "70 : 2406240\n",
      "71 : 4434190\n",
      "72 : 3666930\n",
      "73 : 3781180\n",
      "74 : 3828140\n",
      "75 : 4415570\n",
      "76 : 914800\n",
      "77 : 2086510\n",
      "78 : 798270\n",
      "79 : 3447930\n",
      "80 : 3957290\n",
      "81 : 3505210\n",
      "82 : 1587360\n",
      "83 : 1674890\n",
      "84 : 3838370\n",
      "85 : 3315110\n",
      "86 : 439900\n",
      "87 : 691050\n",
      "88 : 845900\n",
      "89 : 186730\n",
      "90 : 2104640\n",
      "91 : 2597970\n",
      "92 : 1156730\n",
      "93 : 1322730\n",
      "94 : 4310340\n",
      "95 : 3498580\n",
      "96 : 1465750\n",
      "97 : 4075370\n",
      "98 : 2923000\n",
      "99 : 2205240\n",
      "100 : 2124560\n",
      "101 : 659430\n",
      "102 : 1925290\n",
      "103 : 1461400\n",
      "104 : 19810\n",
      "105 : 1005390\n",
      "106 : 1563200\n",
      "107 : 2015990\n",
      "108 : 3960840\n",
      "109 : 2795280\n",
      "110 : 842680\n",
      "111 : 3129690\n",
      "112 : 3950360\n",
      "113 : 1559170\n",
      "114 : 3990680\n",
      "115 : 4284200\n",
      "116 : 2552770\n",
      "117 : 3765400\n",
      "118 : 2050110\n",
      "119 : 1974220\n",
      "120 : 4145850\n",
      "121 : 1859150\n",
      "122 : 659891\n",
      "123 : 2588871\n",
      "124 : 3018121\n",
      "125 : 4150261\n",
      "126 : 2026761\n",
      "127 : 1769871\n",
      "128 : 4283531\n",
      "129 : 877511\n",
      "130 : 3166831\n",
      "131 : 2529131\n",
      "132 : 1605571\n",
      "133 : 3263421\n",
      "134 : 2364021\n",
      "135 : 3855511\n",
      "136 : 3406821\n",
      "137 : 2706861\n",
      "138 : 3551871\n",
      "139 : 3899351\n",
      "140 : 841241\n",
      "141 : 866211\n",
      "142 : 1365961\n",
      "143 : 3257021\n",
      "144 : 3912871\n",
      "145 : 3257421\n",
      "146 : 78121\n",
      "147 : 590261\n",
      "148 : 1844651\n",
      "149 : 4264351\n",
      "150 : 3090221\n",
      "151 : 655591\n",
      "152 : 2567621\n",
      "153 : 1819311\n",
      "154 : 803241\n",
      "155 : 2122391\n",
      "156 : 205631\n",
      "157 : 2336891\n",
      "158 : 42021\n",
      "159 : 527791\n",
      "160 : 2527831\n",
      "161 : 3348671\n",
      "162 : 527621\n",
      "163 : 1348541\n",
      "164 : 2466911\n",
      "165 : 670461\n",
      "166 : 366651\n",
      "167 : 4371991\n",
      "168 : 2581611\n",
      "169 : 1473341\n",
      "170 : 1535741\n",
      "171 : 3734111\n",
      "172 : 1037541\n",
      "173 : 3543201\n",
      "174 : 137911\n",
      "175 : 2922361\n",
      "176 : 2822731\n",
      "177 : 186071\n",
      "178 : 288651\n",
      "179 : 3376891\n",
      "180 : 1817251\n",
      "181 : 738781\n",
      "182 : 3169101\n",
      "183 : 3073471\n",
      "184 : 3904091\n",
      "185 : 195651\n",
      "186 : 2092921\n",
      "187 : 664891\n",
      "188 : 1504811\n",
      "189 : 3328401\n",
      "190 : 1469881\n",
      "191 : 2893271\n",
      "192 : 779371\n",
      "193 : 94861\n",
      "194 : 3864721\n",
      "195 : 3900661\n",
      "196 : 3964131\n",
      "197 : 1698151\n",
      "198 : 632991\n",
      "199 : 3551311\n",
      "200 : 3264431\n",
      "201 : 923561\n",
      "202 : 2947831\n",
      "203 : 4131131\n",
      "204 : 3771431\n",
      "205 : 2868371\n",
      "206 : 2157101\n",
      "207 : 3463701\n",
      "208 : 1039491\n",
      "209 : 4140671\n",
      "210 : 3070421\n",
      "211 : 3051171\n",
      "212 : 1215171\n",
      "213 : 40191\n",
      "214 : 4267091\n",
      "215 : 1368261\n",
      "216 : 2299001\n",
      "217 : 3536421\n",
      "218 : 2861001\n",
      "219 : 3006071\n",
      "220 : 1169271\n",
      "221 : 3724321\n",
      "222 : 2788901\n",
      "223 : 1523841\n",
      "224 : 2555411\n",
      "225 : 2686411\n",
      "226 : 1142901\n",
      "227 : 718171\n",
      "228 : 2895751\n",
      "229 : 2215921\n",
      "230 : 2666091\n",
      "231 : 249771\n",
      "232 : 2537921\n",
      "233 : 902101\n",
      "234 : 2624781\n",
      "235 : 3056101\n",
      "236 : 3773271\n",
      "237 : 1678082\n",
      "238 : 3821722\n",
      "239 : 1382252\n",
      "240 : 3539062\n",
      "241 : 3610032\n",
      "242 : 3946112\n",
      "243 : 1956142\n",
      "244 : 1947602\n",
      "245 : 1380372\n",
      "246 : 347992\n",
      "247 : 2657732\n",
      "248 : 1683642\n",
      "249 : 782382\n",
      "250 : 2756332\n",
      "251 : 3421962\n",
      "252 : 3255722\n",
      "253 : 3508292\n",
      "254 : 159982\n",
      "255 : 2799342\n",
      "256 : 3933902\n",
      "257 : 4133822\n",
      "258 : 2680912\n",
      "259 : 3460872\n",
      "260 : 2425982\n",
      "261 : 2577282\n",
      "262 : 3213552\n",
      "263 : 1467872\n",
      "264 : 1393202\n",
      "265 : 3516412\n",
      "266 : 2485412\n",
      "267 : 501992\n",
      "268 : 428102\n",
      "269 : 3534272\n",
      "270 : 512822\n",
      "271 : 2428812\n",
      "272 : 597632\n",
      "273 : 1699022\n",
      "274 : 2591932\n",
      "275 : 1028992\n",
      "276 : 276012\n",
      "277 : 801062\n",
      "278 : 262362\n",
      "279 : 4079782\n",
      "280 : 202452\n",
      "281 : 1453332\n",
      "282 : 1900542\n",
      "283 : 3636742\n",
      "284 : 1448872\n",
      "285 : 849082\n",
      "286 : 1390222\n",
      "287 : 3799452\n",
      "288 : 1922772\n",
      "289 : 242282\n",
      "290 : 2854992\n",
      "291 : 302612\n",
      "292 : 3498082\n",
      "293 : 436632\n",
      "294 : 990702\n",
      "295 : 2721882\n",
      "296 : 2853612\n",
      "297 : 1533672\n",
      "298 : 140002\n",
      "299 : 3511292\n",
      "300 : 4345772\n",
      "301 : 622152\n",
      "302 : 882562\n",
      "303 : 4159642\n",
      "304 : 3634522\n",
      "305 : 2815712\n",
      "306 : 615052\n",
      "307 : 1607092\n",
      "308 : 683082\n",
      "309 : 1366572\n",
      "310 : 1991712\n",
      "311 : 4019502\n",
      "312 : 2649952\n",
      "313 : 812802\n",
      "314 : 3941172\n",
      "315 : 2099632\n",
      "316 : 4428592\n",
      "317 : 1896372\n",
      "318 : 3604492\n",
      "319 : 4245412\n",
      "320 : 3805802\n",
      "321 : 118132\n",
      "322 : 975762\n",
      "323 : 2225132\n",
      "324 : 3713442\n",
      "325 : 1375382\n",
      "326 : 2891512\n",
      "327 : 1377802\n",
      "328 : 3198482\n",
      "329 : 3258962\n",
      "330 : 397662\n",
      "331 : 89462\n",
      "332 : 883402\n",
      "333 : 2213092\n",
      "334 : 1430082\n",
      "335 : 2310282\n",
      "336 : 915432\n",
      "337 : 41622\n",
      "338 : 1495062\n",
      "339 : 2980562\n",
      "340 : 1668342\n",
      "341 : 3554882\n",
      "342 : 1775992\n",
      "343 : 1200383\n",
      "344 : 1811853\n",
      "345 : 47303\n",
      "346 : 642893\n",
      "347 : 39253\n",
      "348 : 653133\n",
      "349 : 2577603\n",
      "350 : 1248243\n",
      "351 : 1258503\n",
      "352 : 585713\n",
      "353 : 1539543\n",
      "354 : 4390753\n",
      "355 : 3430973\n",
      "356 : 2598053\n",
      "357 : 4379783\n",
      "358 : 563813\n",
      "359 : 4184683\n",
      "360 : 939873\n",
      "361 : 2526803\n",
      "362 : 209223\n",
      "363 : 281033\n",
      "364 : 193693\n",
      "365 : 3765533\n",
      "366 : 3253383\n",
      "367 : 232333\n",
      "368 : 125303\n",
      "369 : 4202573\n",
      "370 : 2854563\n",
      "371 : 3405053\n",
      "372 : 1915533\n",
      "373 : 1321243\n",
      "374 : 3389233\n",
      "375 : 597453\n",
      "376 : 4264223\n",
      "377 : 4414883\n",
      "378 : 2303743\n",
      "379 : 4369753\n",
      "380 : 335533\n",
      "381 : 4420133\n",
      "382 : 2052163\n",
      "383 : 2479253\n",
      "384 : 3857793\n",
      "385 : 974273\n",
      "386 : 3927643\n",
      "387 : 2786533\n",
      "388 : 3708653\n",
      "389 : 2795333\n",
      "390 : 4143543\n",
      "391 : 1665503\n",
      "392 : 4210413\n",
      "393 : 3781543\n",
      "394 : 3701763\n",
      "395 : 62353\n",
      "396 : 4357613\n",
      "397 : 2419353\n",
      "398 : 4080153\n",
      "399 : 4125353\n",
      "400 : 3659923\n",
      "401 : 2427823\n",
      "402 : 3414193\n",
      "403 : 94313\n",
      "404 : 2562813\n",
      "405 : 2185163\n",
      "406 : 915763\n",
      "407 : 3549033\n",
      "408 : 720773\n",
      "409 : 3059363\n",
      "410 : 1701283\n",
      "411 : 2951563\n",
      "412 : 2166573\n",
      "413 : 2204573\n",
      "414 : 1936223\n",
      "415 : 108273\n",
      "416 : 3410723\n",
      "417 : 3155243\n",
      "418 : 4141453\n",
      "419 : 4436723\n",
      "420 : 3903853\n",
      "421 : 3213593\n",
      "422 : 576173\n",
      "423 : 276603\n",
      "424 : 2144623\n",
      "425 : 299363\n",
      "426 : 3911003\n",
      "427 : 2887263\n",
      "428 : 4203573\n",
      "429 : 2358223\n",
      "430 : 4173283\n",
      "431 : 574643\n",
      "432 : 763523\n",
      "433 : 2506153\n",
      "434 : 1253363\n",
      "435 : 1313323\n",
      "436 : 1840373\n",
      "437 : 1513363\n",
      "438 : 2502943\n",
      "439 : 2847043\n",
      "440 : 3319183\n",
      "441 : 1653173\n",
      "442 : 151913\n",
      "443 : 2924303\n",
      "444 : 2214943\n",
      "445 : 2356573\n",
      "446 : 2177373\n",
      "447 : 3909703\n",
      "448 : 1545353\n",
      "449 : 483453\n",
      "450 : 2260383\n",
      "451 : 1186443\n",
      "452 : 3053983\n",
      "453 : 1350803\n",
      "454 : 2752903\n",
      "455 : 3261303\n",
      "456 : 2012913\n",
      "457 : 2124333\n",
      "458 : 3410124\n",
      "459 : 1736024\n",
      "460 : 4061614\n",
      "461 : 944164\n",
      "462 : 2815844\n",
      "463 : 3333334\n",
      "464 : 2762214\n",
      "465 : 2473734\n",
      "466 : 608684\n",
      "467 : 926964\n",
      "468 : 4424994\n",
      "469 : 113454\n",
      "470 : 574884\n",
      "471 : 3129724\n",
      "472 : 298394\n",
      "473 : 3771774\n",
      "474 : 1183524\n",
      "475 : 3466624\n",
      "476 : 257804\n",
      "477 : 1927424\n",
      "478 : 2201264\n",
      "479 : 3221904\n",
      "480 : 4370644\n",
      "481 : 1697394\n",
      "482 : 851314\n",
      "483 : 1442604\n",
      "484 : 3666924\n",
      "485 : 2922694\n",
      "486 : 3919894\n",
      "487 : 2164104\n",
      "488 : 1329874\n",
      "489 : 920774\n",
      "490 : 2640684\n",
      "491 : 690634\n",
      "492 : 808454\n",
      "493 : 4091364\n",
      "494 : 4234214\n",
      "495 : 3002164\n",
      "496 : 1634804\n",
      "497 : 43034\n",
      "498 : 3526524\n",
      "499 : 3725894\n",
      "500 : 2243224\n",
      "501 : 1992624\n",
      "502 : 4299674\n",
      "503 : 1378524\n",
      "504 : 4070094\n",
      "505 : 735794\n",
      "506 : 2289514\n",
      "507 : 3259624\n",
      "508 : 3452714\n",
      "509 : 1960824\n",
      "510 : 1281634\n",
      "511 : 2733604\n",
      "512 : 1806174\n",
      "513 : 1075664\n",
      "514 : 1556064\n",
      "515 : 3192074\n",
      "516 : 4235124\n",
      "517 : 3826954\n",
      "518 : 382854\n",
      "519 : 3816594\n",
      "520 : 3248094\n",
      "521 : 2063894\n",
      "522 : 3413744\n",
      "523 : 2193894\n",
      "524 : 2124734\n",
      "525 : 3820224\n",
      "526 : 1752874\n",
      "527 : 3714314\n",
      "528 : 3180854\n",
      "529 : 4372374\n",
      "530 : 400824\n",
      "531 : 2535694\n",
      "532 : 4066724\n",
      "533 : 2461114\n",
      "534 : 1435364\n",
      "535 : 4003684\n",
      "536 : 3886954\n",
      "537 : 1052064\n",
      "538 : 3108464\n",
      "539 : 1701764\n",
      "540 : 528124\n",
      "541 : 4432834\n",
      "542 : 2090074\n",
      "543 : 3003714\n",
      "544 : 1996044\n",
      "545 : 219434\n",
      "546 : 418964\n",
      "547 : 783354\n",
      "548 : 1192284\n",
      "549 : 1586744\n",
      "550 : 1282544\n",
      "551 : 1738444\n",
      "552 : 2792654\n",
      "553 : 80814\n",
      "554 : 1799224\n",
      "555 : 2016204\n",
      "556 : 94824\n",
      "557 : 1905354\n",
      "558 : 4128704\n",
      "559 : 1596384\n",
      "560 : 326514\n",
      "561 : 1495184\n",
      "562 : 3013854\n",
      "563 : 2927214\n",
      "564 : 2258724\n",
      "565 : 2181134\n",
      "566 : 3272394\n",
      "567 : 3653744\n",
      "568 : 796045\n",
      "569 : 3082835\n",
      "570 : 591945\n",
      "571 : 3414885\n",
      "572 : 3483995\n",
      "573 : 668375\n",
      "574 : 1135575\n",
      "575 : 2150915\n",
      "576 : 1191905\n",
      "577 : 1386765\n",
      "578 : 1447285\n",
      "579 : 1223135\n",
      "580 : 3274815\n",
      "581 : 3814065\n",
      "582 : 4157335\n",
      "583 : 3547005\n",
      "584 : 246475\n",
      "585 : 3791875\n",
      "586 : 205135\n",
      "587 : 1067515\n",
      "588 : 3998165\n",
      "589 : 114755\n",
      "590 : 1555415\n",
      "591 : 4115745\n",
      "592 : 3442785\n",
      "593 : 321365\n",
      "594 : 1869745\n",
      "595 : 3881365\n",
      "596 : 743255\n",
      "597 : 1420035\n",
      "598 : 4259215\n",
      "599 : 2437055\n",
      "600 : 297285\n",
      "601 : 1835555\n",
      "602 : 3589355\n",
      "603 : 1802945\n",
      "604 : 301095\n",
      "605 : 219185\n",
      "606 : 1447075\n",
      "607 : 1439445\n",
      "608 : 205715\n",
      "609 : 1612095\n",
      "610 : 2876685\n",
      "611 : 3321215\n",
      "612 : 3378765\n",
      "613 : 1320245\n",
      "614 : 1304425\n",
      "615 : 3836345\n",
      "616 : 3966045\n",
      "617 : 16745\n",
      "618 : 513705\n",
      "619 : 3668555\n",
      "620 : 3957775\n",
      "621 : 3572845\n",
      "622 : 2663525\n",
      "623 : 1538505\n",
      "624 : 687185\n",
      "625 : 1324685\n",
      "626 : 4089925\n",
      "627 : 2026535\n",
      "628 : 1257655\n",
      "629 : 2383705\n",
      "630 : 4264865\n",
      "631 : 3372415\n",
      "632 : 929685\n",
      "633 : 880365\n",
      "634 : 4265435\n",
      "635 : 1127855\n",
      "636 : 2865335\n",
      "637 : 3248575\n",
      "638 : 263775\n",
      "639 : 3148405\n",
      "640 : 1657905\n",
      "641 : 2573945\n",
      "642 : 3761605\n",
      "643 : 88905\n",
      "644 : 4053105\n",
      "645 : 1503875\n",
      "646 : 897725\n",
      "647 : 3641645\n",
      "648 : 228245\n",
      "649 : 1668665\n",
      "650 : 3532875\n",
      "651 : 3330745\n",
      "652 : 1990405\n",
      "653 : 1563445\n",
      "654 : 464145\n",
      "655 : 1742235\n",
      "656 : 1130325\n",
      "657 : 3457345\n",
      "658 : 3671415\n",
      "659 : 101295\n",
      "660 : 2598695\n",
      "661 : 3259296\n",
      "662 : 3212526\n",
      "663 : 156046\n",
      "664 : 3369676\n",
      "665 : 4120756\n",
      "666 : 3604216\n",
      "667 : 1033866\n",
      "668 : 1876896\n",
      "669 : 1779486\n",
      "670 : 4192696\n",
      "671 : 2435876\n",
      "672 : 911646\n",
      "673 : 2359156\n",
      "674 : 1869156\n",
      "675 : 1652046\n",
      "676 : 2499866\n",
      "677 : 2264106\n",
      "678 : 3809936\n",
      "679 : 1885276\n",
      "680 : 964696\n",
      "681 : 1878246\n",
      "682 : 253686\n",
      "683 : 2589956\n",
      "684 : 4025586\n",
      "685 : 1116126\n",
      "686 : 1129866\n",
      "687 : 3347086\n",
      "688 : 726886\n",
      "689 : 369216\n",
      "690 : 4384036\n",
      "691 : 4185136\n",
      "692 : 290696\n",
      "693 : 2291896\n",
      "694 : 329556\n",
      "695 : 933326\n",
      "696 : 4028856\n",
      "697 : 466196\n",
      "698 : 1468636\n",
      "699 : 722896\n",
      "700 : 804796\n",
      "701 : 3168316\n",
      "702 : 1281946\n",
      "703 : 537166\n",
      "704 : 1647586\n",
      "705 : 3444186\n",
      "706 : 1926456\n",
      "707 : 2018656\n",
      "708 : 2088126\n",
      "709 : 1536136\n",
      "710 : 4117796\n",
      "711 : 4153476\n",
      "712 : 1706056\n",
      "713 : 159206\n",
      "714 : 4082836\n",
      "715 : 3705756\n",
      "716 : 1567876\n",
      "717 : 265236\n",
      "718 : 1111496\n",
      "719 : 4411046\n",
      "720 : 3880536\n",
      "721 : 154476\n",
      "722 : 4134006\n",
      "723 : 3477066\n",
      "724 : 2424656\n",
      "725 : 1445816\n",
      "726 : 672366\n",
      "727 : 2502436\n",
      "728 : 1596726\n",
      "729 : 3054686\n",
      "730 : 4156266\n",
      "731 : 1273516\n",
      "732 : 2941466\n",
      "733 : 4212606\n",
      "734 : 2601796\n",
      "735 : 3658556\n",
      "736 : 2198646\n",
      "737 : 4174846\n",
      "738 : 2782906\n",
      "739 : 709456\n",
      "740 : 3988326\n",
      "741 : 2604026\n",
      "742 : 3008546\n",
      "743 : 3299906\n",
      "744 : 2753526\n",
      "745 : 2910246\n",
      "746 : 1563806\n",
      "747 : 858506\n",
      "748 : 2647426\n",
      "749 : 1976996\n",
      "750 : 624276\n",
      "751 : 4419876\n",
      "752 : 1403046\n",
      "753 : 2776446\n",
      "754 : 630536\n",
      "755 : 120266\n",
      "756 : 1618616\n",
      "757 : 4118906\n",
      "758 : 51186\n",
      "759 : 69876\n",
      "760 : 801426\n",
      "761 : 2093526\n",
      "762 : 3687346\n",
      "763 : 1948146\n",
      "764 : 2060016\n",
      "765 : 1724046\n",
      "766 : 2957066\n",
      "767 : 892646\n",
      "768 : 1098226\n",
      "769 : 3848946\n",
      "770 : 3693726\n",
      "771 : 4208856\n",
      "772 : 2195566\n",
      "773 : 4153256\n",
      "774 : 2386336\n",
      "775 : 656376\n",
      "776 : 3947656\n",
      "777 : 3036526\n",
      "778 : 518967\n",
      "779 : 3068497\n",
      "780 : 3736107\n",
      "781 : 1070717\n",
      "782 : 2879887\n",
      "783 : 1506867\n",
      "784 : 3343767\n",
      "785 : 436387\n",
      "786 : 484767\n",
      "787 : 4079997\n",
      "788 : 4106757\n",
      "789 : 621957\n",
      "790 : 334307\n",
      "791 : 1554317\n",
      "792 : 2432807\n",
      "793 : 3195027\n",
      "794 : 766487\n",
      "795 : 791907\n",
      "796 : 2331337\n",
      "797 : 210747\n",
      "798 : 2357717\n",
      "799 : 3243287\n",
      "800 : 1561027\n",
      "801 : 724647\n",
      "802 : 1073827\n",
      "803 : 1860127\n",
      "804 : 3029017\n",
      "805 : 2330517\n",
      "806 : 2272117\n",
      "807 : 2410607\n",
      "808 : 1530597\n",
      "809 : 4415347\n",
      "810 : 898437\n",
      "811 : 1599697\n",
      "812 : 2745237\n",
      "813 : 1441507\n",
      "814 : 4433027\n",
      "815 : 3153387\n",
      "816 : 4416847\n",
      "817 : 3945137\n",
      "818 : 3806917\n",
      "819 : 4231657\n",
      "820 : 2704127\n",
      "821 : 2760597\n",
      "822 : 2067837\n",
      "823 : 376987\n",
      "824 : 4186027\n",
      "825 : 902037\n",
      "826 : 2166687\n",
      "827 : 2050487\n",
      "828 : 1630077\n",
      "829 : 4265727\n",
      "830 : 2516367\n",
      "831 : 1246647\n",
      "832 : 3483907\n",
      "833 : 3145197\n",
      "834 : 3096097\n",
      "835 : 126877\n",
      "836 : 4439487\n",
      "837 : 3768457\n",
      "838 : 3117297\n",
      "839 : 1531357\n",
      "840 : 3328507\n",
      "841 : 1943827\n",
      "842 : 1013187\n",
      "843 : 1652037\n",
      "844 : 2659887\n",
      "845 : 4183907\n",
      "846 : 2470747\n",
      "847 : 2998577\n",
      "848 : 416927\n",
      "849 : 1130897\n",
      "850 : 1710997\n",
      "851 : 3123317\n",
      "852 : 3729987\n",
      "853 : 1945747\n",
      "854 : 2490567\n",
      "855 : 3178937\n",
      "856 : 3715827\n",
      "857 : 1795117\n",
      "858 : 2221457\n",
      "859 : 18727\n",
      "860 : 2291747\n",
      "861 : 2184967\n",
      "862 : 477127\n",
      "863 : 2793387\n",
      "864 : 3331937\n",
      "865 : 879897\n",
      "866 : 3166967\n",
      "867 : 1978057\n",
      "868 : 904507\n",
      "869 : 1103217\n",
      "870 : 3770217\n",
      "871 : 1565347\n",
      "872 : 210547\n",
      "873 : 2378227\n",
      "874 : 4382547\n",
      "875 : 4109227\n",
      "876 : 150307\n",
      "877 : 3836477\n",
      "878 : 4088267\n",
      "879 : 275357\n",
      "880 : 2664277\n",
      "881 : 328958\n",
      "882 : 871648\n",
      "883 : 1093348\n",
      "884 : 1081968\n",
      "885 : 1693458\n",
      "886 : 4158478\n",
      "887 : 1143148\n",
      "888 : 519978\n",
      "889 : 3367628\n",
      "890 : 2954638\n",
      "891 : 2003478\n",
      "892 : 1926448\n",
      "893 : 86078\n",
      "894 : 1059998\n",
      "895 : 141738\n",
      "896 : 1920308\n",
      "897 : 3184518\n",
      "898 : 3625578\n",
      "899 : 310958\n",
      "900 : 1136558\n",
      "901 : 1645908\n",
      "902 : 3620098\n",
      "903 : 4042058\n",
      "904 : 2076918\n",
      "905 : 1041628\n",
      "906 : 3922128\n",
      "907 : 4365138\n",
      "908 : 2064258\n",
      "909 : 1997438\n",
      "910 : 3721708\n",
      "911 : 674028\n",
      "912 : 1097528\n",
      "913 : 4202088\n",
      "914 : 81158\n",
      "915 : 2634068\n",
      "916 : 2166998\n",
      "917 : 2172318\n",
      "918 : 1209718\n",
      "919 : 2845168\n",
      "920 : 3846708\n",
      "921 : 4394438\n",
      "922 : 3594258\n",
      "923 : 919128\n",
      "924 : 3959788\n",
      "925 : 1009418\n",
      "926 : 1470008\n",
      "927 : 155358\n",
      "928 : 2220498\n",
      "929 : 2509238\n",
      "930 : 2857988\n",
      "931 : 3747418\n",
      "932 : 699078\n",
      "933 : 2880808\n",
      "934 : 2662998\n",
      "935 : 1008228\n",
      "936 : 3466138\n",
      "937 : 784568\n",
      "938 : 3333258\n",
      "939 : 2281158\n",
      "940 : 834558\n",
      "941 : 3328798\n",
      "942 : 2341818\n",
      "943 : 314158\n",
      "944 : 1739708\n",
      "945 : 1925338\n",
      "946 : 4346188\n",
      "947 : 1202108\n",
      "948 : 1931248\n",
      "949 : 2773458\n",
      "950 : 2232538\n",
      "951 : 4012068\n",
      "952 : 3366288\n",
      "953 : 2994408\n",
      "954 : 1168328\n",
      "955 : 1353208\n",
      "956 : 1090278\n",
      "957 : 1182748\n",
      "958 : 1865448\n",
      "959 : 264528\n",
      "960 : 3548148\n",
      "961 : 3040348\n",
      "962 : 2264758\n",
      "963 : 369498\n",
      "964 : 969798\n",
      "965 : 4103228\n",
      "966 : 185758\n",
      "967 : 3325668\n",
      "968 : 1119348\n",
      "969 : 2909398\n",
      "970 : 1357438\n",
      "971 : 1104888\n",
      "972 : 3264538\n",
      "973 : 1841038\n",
      "974 : 948108\n",
      "975 : 432248\n",
      "976 : 4430898\n",
      "977 : 4360648\n",
      "978 : 1929808\n",
      "979 : 4214718\n",
      "980 : 2688998\n",
      "981 : 3293808\n",
      "982 : 2783468\n",
      "983 : 5858\n",
      "984 : 3129468\n",
      "985 : 4187438\n",
      "986 : 1781698\n",
      "987 : 1890208\n",
      "988 : 1948318\n",
      "989 : 1834568\n",
      "990 : 382548\n",
      "991 : 1938758\n",
      "992 : 2708069\n",
      "993 : 1949\n",
      "994 : 106969\n",
      "995 : 311959\n",
      "996 : 1022429\n",
      "997 : 2367869\n",
      "998 : 1859889\n",
      "999 : 1326579\n",
      "1000 : 848129\n",
      "1001 : 2370319\n",
      "1002 : 920229\n",
      "1003 : 4384069\n",
      "1004 : 2644909\n",
      "1005 : 1655499\n",
      "1006 : 2688929\n",
      "1007 : 1255399\n",
      "1008 : 4340869\n",
      "1009 : 431489\n",
      "1010 : 2631339\n",
      "1011 : 1383789\n",
      "1012 : 4343259\n",
      "1013 : 448169\n",
      "1014 : 3151969\n",
      "1015 : 3316719\n",
      "1016 : 3416889\n",
      "1017 : 187799\n",
      "1018 : 1178839\n",
      "1019 : 2445139\n",
      "1020 : 2979989\n",
      "1021 : 960979\n",
      "1022 : 1784909\n",
      "1023 : 2007199\n",
      "1024 : 253519\n",
      "1025 : 3832289\n",
      "1026 : 943119\n",
      "1027 : 3423989\n",
      "1028 : 551769\n",
      "1029 : 1995389\n",
      "1030 : 3277509\n",
      "1031 : 301729\n",
      "1032 : 2321439\n",
      "1033 : 3655779\n",
      "1034 : 3409559\n",
      "1035 : 507509\n",
      "1036 : 2270609\n",
      "1037 : 2913329\n",
      "1038 : 70899\n",
      "1039 : 4202659\n",
      "1040 : 1281389\n",
      "1041 : 1878199\n",
      "1042 : 3569239\n",
      "1043 : 4165279\n",
      "1044 : 2953709\n",
      "1045 : 482729\n",
      "1046 : 4384569\n",
      "1047 : 4421999\n",
      "1048 : 792139\n",
      "1049 : 4318249\n",
      "1050 : 2394449\n",
      "1051 : 299689\n",
      "1052 : 1520339\n",
      "1053 : 3213089\n",
      "1054 : 2371529\n",
      "1055 : 1493499\n",
      "1056 : 2564889\n",
      "1057 : 343469\n",
      "1058 : 597409\n",
      "1059 : 3166879\n",
      "1060 : 1706149\n",
      "1061 : 1436529\n",
      "1062 : 3877789\n",
      "1063 : 1624229\n",
      "1064 : 960179\n",
      "1065 : 2463719\n",
      "1066 : 1605069\n",
      "1067 : 883879\n",
      "1068 : 2230669\n",
      "1069 : 1155479\n",
      "1070 : 3595519\n",
      "1071 : 1829309\n",
      "1072 : 3584669\n",
      "1073 : 4045379\n",
      "1074 : 928769\n",
      "1075 : 2679249\n",
      "1076 : 2209489\n",
      "1077 : 2511349\n",
      "1078 : 2103209\n",
      "1079 : 691609\n",
      "1080 : 330919\n",
      "1081 : 1899229\n",
      "1082 : 3910119\n",
      "1083 : 194969\n",
      "1084 : 223369\n",
      "1085 : 3200709\n",
      "1086 : 3253289\n",
      "1087 : 3263709\n",
      "1088 : 3711729\n",
      "1089 : 254039\n",
      "1090 : 3213929\n",
      "1091 : 501959\n",
      "1092 : 681679\n",
      "1093 : 1908229\n",
      "1094 : 340369\n",
      "1095 : 3524909\n",
      "1096 : 3710889\n",
      "1097 : 1021879\n",
      "1098 : 3963899\n",
      "1099 : 2369209\n"
     ]
    }
   ],
   "source": [
    "K = 50\n",
    "sessions_top100 = []\n",
    "use_map_not_loop = True\n",
    "write_to_file = True\n",
    "#session = test_sessions[0]\n",
    "l = 0\n",
    "start_time=time.time()\n",
    "\n",
    "for session in test_sessions: \n",
    "    l += 1\n",
    "    print (str(l) + ' : ' + str(session[0]))\n",
    "    sess_id = session[0]\n",
    "    sess_features = session[1]\n",
    "    scores = []\n",
    "    neighbors = model.approxNearestNeighbors(train_data, sess_features, K)\n",
    "    neighbors = neighbors.withColumn('sim', 1.0/(neighbors.distCol+1)).select('id', 'sim')\n",
    "    neighbors_array = neighbors.rdd.map(lambda x: [x[0],x[1]]).collect()\n",
    "    broadcasted_neighbors = sc.broadcast(neighbors_array)\n",
    "    if use_map_not_loop:\n",
    "        items_scored = items_sess_table.map(lambda x: (x[0], compute_1_item_score(x[1]))).collect()\n",
    "    \n",
    "    else:\n",
    "        items_scored = []\n",
    "        for item in items_sess_table_list:\n",
    "            items_scored.append((item[0], compute_1_item_score(item[1])))\n",
    "                   \n",
    "    items_scored.sort(reverse=True, key = lambda x: x[1])\n",
    "    items_scored = [x[0] for x in items_scored[:100]]  \n",
    "    sessions_top100.append((session[0], items_scored)) \n",
    "\n",
    "if write_to_file:\n",
    "    f = open(\"results.txt\", \"w\")\n",
    "    f.write(\"\\n\".join(map(lambda x: str(x), sessions_top100)))\n",
    "    f.close()\n",
    "\n",
    "    \n",
    "stop_time = time.time()\n",
    "tot_time = stop_time - start_time\n",
    "sessions_top100_RDD = sc.parallelize(sessions_top100)"
   ]
  },
  {
   "cell_type": "code",
   "execution_count": 146,
   "metadata": {},
   "outputs": [
    {
     "data": {
      "text/plain": [
       "6988.742899894714"
      ]
     },
     "execution_count": 146,
     "metadata": {},
     "output_type": "execute_result"
    }
   ],
   "source": [
    "tot_time"
   ]
  },
  {
   "cell_type": "code",
   "execution_count": 102,
   "metadata": {},
   "outputs": [],
   "source": [
    "results_mrmr = sessions_top100"
   ]
  },
  {
   "cell_type": "code",
   "execution_count": 143,
   "metadata": {},
   "outputs": [],
   "source": [
    "results_ffs = sessions_top100"
   ]
  },
  {
   "cell_type": "markdown",
   "metadata": {},
   "source": [
    "### Evaluation of the prediction"
   ]
  },
  {
   "cell_type": "code",
   "execution_count": 105,
   "metadata": {},
   "outputs": [],
   "source": [
    "def score_sess_pred(sess):\n",
    "    top100 = sess[0]\n",
    "    p_item = sess[1]\n",
    "    if p_item not in top100:\n",
    "        res = 0\n",
    "    else:\n",
    "        res = 1.0/(top100.index(p_item) + 1.0)\n",
    "    return res"
   ]
  },
  {
   "cell_type": "code",
   "execution_count": 148,
   "metadata": {},
   "outputs": [],
   "source": [
    "eval_RDD = sessions_top100_RDD.join(test_truth_table)\n",
    "scored_pred_ffs = eval_RDD.map(lambda x: score_sess_pred(x[1]))\n",
    "tot_score_ffs = scored_pred_ffs.reduce(lambda x, y: x+y)/N_test_sessions"
   ]
  },
  {
   "cell_type": "code",
   "execution_count": 149,
   "metadata": {},
   "outputs": [
    {
     "data": {
      "text/plain": [
       "0.06351844189172526"
      ]
     },
     "execution_count": 149,
     "metadata": {},
     "output_type": "execute_result"
    }
   ],
   "source": [
    "tot_score_ffs"
   ]
  },
  {
   "cell_type": "code",
   "execution_count": 152,
   "metadata": {},
   "outputs": [
    {
     "data": {
      "text/plain": [
       "0.04130246216905554"
      ]
     },
     "execution_count": 152,
     "metadata": {},
     "output_type": "execute_result"
    }
   ],
   "source": [
    "tot_score_mrmr\n"
   ]
  },
  {
   "cell_type": "code",
   "execution_count": 153,
   "metadata": {},
   "outputs": [
    {
     "name": "stdout",
     "output_type": "stream",
     "text": [
      "final score mrmr :24.211631643336165\n",
      "final score ffs :15.743459225662667\n"
     ]
    }
   ],
   "source": [
    "av_rank_mrmr = 1.0/tot_score_mrmr\n",
    "av_rank_ffs = 1.0/tot_score_ffs\n",
    "print('final score mrmr :' + str(av_rank_mrmr))\n",
    "print('final score ffs :' + str(av_rank_ffs))"
   ]
  }
 ],
 "metadata": {
  "kernelspec": {
   "display_name": "Python 3",
   "language": "python",
   "name": "python3"
  },
  "language_info": {
   "codemirror_mode": {
    "name": "ipython",
    "version": 3
   },
   "file_extension": ".py",
   "mimetype": "text/x-python",
   "name": "python",
   "nbconvert_exporter": "python",
   "pygments_lexer": "ipython3",
   "version": "3.7.3"
  }
 },
 "nbformat": 4,
 "nbformat_minor": 2
}
